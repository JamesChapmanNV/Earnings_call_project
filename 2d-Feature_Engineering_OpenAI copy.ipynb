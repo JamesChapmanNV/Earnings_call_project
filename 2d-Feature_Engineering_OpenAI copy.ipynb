{
 "cells": [
  {
   "cell_type": "markdown",
   "id": "256c016d-3a52-4525-b92f-d9eafcb7899f",
   "metadata": {},
   "source": [
    "# Earnings Call Project: OpenAI\n",
    "<br>\n",
    "CIS 831 Deep Learning – Term Project<br>\n",
    "Kansas State University\n",
    "<br><br>\n",
    "James Chapman<br>\n",
    "John Woods<br>\n",
    "Nathan Diehl<br>\n",
    "<br>"
   ]
  },
  {
   "cell_type": "markdown",
   "id": "88afe45e-603e-4403-b191-ecd36af94ef7",
   "metadata": {},
   "source": [
    "### This notebook featurizes the text data from the earnings calls with OpenAI - ChatGPT \n",
    "\n",
    "OpenAI - ChatGPT  documentation can be found at https://platform.openai.com/docs/api-reference/introduction\n",
    "\n",
    "The data from this notebook is stored in the \"data/data_prep\" directory as the following CSVs.\n",
    "- OpenAI_sentiment\n",
    "- MACE_OpenAI_sentiment\n"
   ]
  },
  {
   "cell_type": "code",
   "execution_count": 1,
   "id": "a88d0789-36df-4250-90e7-1485c0dc9dfe",
   "metadata": {},
   "outputs": [
    {
     "name": "stdout",
     "output_type": "stream",
     "text": [
      "cuda\n"
     ]
    }
   ],
   "source": [
    "import pandas as pd\n",
    "import numpy as np\n",
    "import os\n",
    "from datetime import datetime\n",
    "from tqdm import tqdm\n",
    "import torch\n",
    "import openai\n",
    "from openai import OpenAI\n",
    "from dotenv import load_dotenv\n",
    "load_dotenv() \n",
    "\n",
    "device = torch.device(\"cuda\" if torch.cuda.is_available() else \"cpu\")\n",
    "print(device)\n"
   ]
  },
  {
   "cell_type": "code",
   "execution_count": 2,
   "id": "f5822f8a-897e-4fd5-b77b-1c38e8d7ae07",
   "metadata": {},
   "outputs": [],
   "source": [
    "MAEC_dir = 'data/MAEC/MAEC_Dataset' # https://github.com/Earnings-Call-Dataset/MAEC-A-Multimodal-Aligned-Earnings-Conference-Call-Dataset-for-Financial-Risk-Prediction\n",
    "\n",
    "############# too big for GitHub ########################\n",
    "############# stored on local disk ######################\n",
    "original_data_dir = r\"D:\\original_dataset\" # https://github.com/GeminiLn/EarningsCall_Dataset \n",
    "MAEC_audio_dir = r\"D:\\MAEC_audio\" \n",
    "# there is a link for the audio data in the MAEC GitHub, but it does not work\n",
    "# I emailed the authors, and they send another link.\n",
    "# There is like a half-million files, but only 19 GB\n",
    "# https://drive.google.com/file/d/1m1GRCHgKn9Vz9IFMC_SpCog6uP3-gFgY/view?usp=drive_link "
   ]
  },
  {
   "cell_type": "code",
   "execution_count": 3,
   "id": "fd7908bf-5a46-4a22-b959-acc40ce09ab3",
   "metadata": {},
   "outputs": [],
   "source": [
    "# Loop through the directory, each folder represents an earnings conference call; the folders are named as \"CompanyName_Date\".\n",
    "filename_data = []\n",
    "for filename in os.listdir(original_data_dir):\n",
    "    company_name, date_str = filename.rsplit('_', 1)\n",
    "    date_str = date_str.split('.')[0] \n",
    "    date = datetime.strptime(date_str, \"%Y%m%d\").strftime(\"%Y-%m-%d\")\n",
    "    filename_data.append([company_name, date])\n",
    "filename_data = pd.DataFrame(filename_data, columns=[\"Company\", \"Date\"])\n",
    "company_ticker = pd.read_csv('data/data_prep/company_ticker.csv')\n",
    "filename_data = filename_data.merge(company_ticker, on=\"Company\", how=\"left\")\n",
    "\n",
    "# Loop through the directory, each folder represents an earnings conference call; the folders are named as \"Date_CompanyName\".\n",
    "MAEC_filename_data = []\n",
    "for filename in os.listdir(MAEC_dir):\n",
    "    date_str, ticker = filename.rsplit('_', 1)\n",
    "    date_str = date_str.split('.')[0] \n",
    "    date = datetime.strptime(date_str, \"%Y%m%d\").strftime(\"%Y-%m-%d\")\n",
    "    MAEC_filename_data.append([ticker, date])\n",
    "MAEC_filename_data = pd.DataFrame(MAEC_filename_data, columns=[\"Ticker\", \"Date\"])"
   ]
  },
  {
   "cell_type": "code",
   "execution_count": 4,
   "id": "dacdb85a",
   "metadata": {},
   "outputs": [
    {
     "name": "stdout",
     "output_type": "stream",
     "text": [
      "ChatCompletionMessage(content='Code calls itself back,  \\nLayers unfold like petals,  \\nEndless depths of thought.  ', refusal=None, role='assistant', audio=None, function_call=None, tool_calls=None)\n"
     ]
    }
   ],
   "source": [
    "\n",
    "client = OpenAI(api_key= os.getenv('First_Key') )\n",
    "\n",
    "completion = client.chat.completions.create(\n",
    "    model=\"gpt-4o-mini\",\n",
    "    messages=[\n",
    "        {\"role\": \"system\", \"content\": \"You are a helpful assistant.\"},\n",
    "        {\n",
    "            \"role\": \"user\",\n",
    "            \"content\": \"Write a haiku about recursion in programming.\"\n",
    "        }\n",
    "    ]\n",
    ")\n",
    "\n",
    "print(completion.choices[0].message)"
   ]
  },
  {
   "cell_type": "code",
   "execution_count": 5,
   "id": "26840ef9",
   "metadata": {},
   "outputs": [],
   "source": [
    "sentiment_list = ['Positive Outlook', 'Negative Outlook', 'Neutral/Factual', 'Cautiously Optimistic', \n",
    "                    'Concerned/Uncertain', 'Strong/Confident', 'Weak/Insecure', 'Growth-Oriented', \n",
    "                    'Cost-Conscious', 'Risk-Acknowledging']\n",
    "prompt = \"\"\"\n",
    "Context:\n",
    "You are a financial sentiment analyst. Your task is to analyze a sentence from an earnings conference call and classify it across ten sentiment categories. Each category is binary: assign a value of 1 if the category applies to the sentence and 0 otherwise.\n",
    "\n",
    "Sentiment Categories:\n",
    "1. Positive Outlook: Optimism about performance or growth potential.\n",
    "2. Negative Outlook: Indications of risk, concern, or underperformance.\n",
    "3. Neutral/Factual: Purely informational with no evaluative tone.\n",
    "4. Cautiously Optimistic: Optimism balanced with acknowledgment of risks.\n",
    "5. Concerned/Uncertain: Expressions of doubt or lack of clarity about the future.\n",
    "6. Strong/Confident: Decisive language indicating leadership or control.\n",
    "7. Weak/Insecure: Hesitant or non-committal tone suggesting insecurity.\n",
    "8. Growth-Oriented: Focused on expansion, opportunities, or investments.\n",
    "9. Cost-Conscious: Emphasis on cost management, efficiency, or budgeting.\n",
    "10. Risk-Acknowledging: Recognition of challenges or uncertainties.\n",
    "\n",
    "Instructions:\n",
    "1. Evaluate each category independently.\n",
    "2. Return only a list of 10 numbers (0 or 1), corresponding to the categories above, in order.\n",
    "3. If a sentence applies to multiple categories (e.g., optimism and risk acknowledgment), assign 1 to all applicable categories.\n",
    "\n",
    "Input Sentence:\n",
    "{}\n",
    "\n",
    "Output Format:\n",
    "[List of 10 numbers]\n",
    "\"\"\"\n"
   ]
  },
  {
   "cell_type": "code",
   "execution_count": 6,
   "id": "a38224ab",
   "metadata": {},
   "outputs": [],
   "source": [
    "# Returns 10 floating-point values \n",
    "def get_sentiment(sentence):\n",
    "    completion = client.chat.completions.create(\n",
    "    model=\"gpt-4o-mini\",\n",
    "    messages=[\n",
    "            {\"role\": \"system\", \"content\": \"You are a financial sentiment analyst.\"},\n",
    "            {\"role\": \"user\", \"content\": prompt.format(sentence)}\n",
    "        ],\n",
    "        max_tokens=50,  \n",
    "        temperature=0.0  # deterministic \n",
    "    )\n",
    "    # send it\n",
    "    result = completion.choices[0].message.content\n",
    "    one_hot_encoding = list(map(int, result.strip(\"[]\").split(\",\")))\n",
    "    return one_hot_encoding"
   ]
  },
  {
   "cell_type": "code",
   "execution_count": null,
   "id": "197bafb0",
   "metadata": {},
   "outputs": [
    {
     "name": "stderr",
     "output_type": "stream",
     "text": [
      " 10%|▉         | 39/394 [18:41:16<179:25:09, 1819.46s/it]"
     ]
    }
   ],
   "source": [
    "sentiment_errors = []\n",
    "OpenAI_sentiment = []\n",
    "\n",
    "for Company, Date in tqdm(filename_data[['Company', 'Date']].values):\n",
    "    Date = Date.replace('-', '')\n",
    "    text_path = f\"D:/original_dataset/{Company}_{Date}/TextSequence.txt\"\n",
    "    try:\n",
    "        with open(text_path, 'r', encoding='utf-8', errors='replace') as file:\n",
    "            for i, line in enumerate(file, start=1):\n",
    "                one_hot_encoding = get_sentiment(line.strip())\n",
    "                features_row = np.concatenate([one_hot_encoding, [Company, Date, i]])\n",
    "                OpenAI_sentiment.append(features_row)\n",
    "    except KeyboardInterrupt: break\n",
    "    except Exception as e:\n",
    "        print((Company, Date, str(e)))\n",
    "        sentiment_errors.append((Company, Date, str(e)))\n",
    "OpenAI_sentiment = np.array(OpenAI_sentiment, dtype=object)\n",
    "OpenAI_sentiment = pd.DataFrame(OpenAI_sentiment, columns= sentiment_list + ['Company', 'Date', 'Sentence_num'])\n",
    "OpenAI_sentiment.info(verbose=False)"
   ]
  },
  {
   "cell_type": "code",
   "execution_count": null,
   "id": "f7414906",
   "metadata": {},
   "outputs": [
    {
     "data": {
      "text/html": [
       "<div>\n",
       "<style scoped>\n",
       "    .dataframe tbody tr th:only-of-type {\n",
       "        vertical-align: middle;\n",
       "    }\n",
       "\n",
       "    .dataframe tbody tr th {\n",
       "        vertical-align: top;\n",
       "    }\n",
       "\n",
       "    .dataframe thead th {\n",
       "        text-align: right;\n",
       "    }\n",
       "</style>\n",
       "<table border=\"1\" class=\"dataframe\">\n",
       "  <thead>\n",
       "    <tr style=\"text-align: right;\">\n",
       "      <th></th>\n",
       "      <th>Positive Outlook</th>\n",
       "      <th>Negative Outlook</th>\n",
       "      <th>Neutral/Factual</th>\n",
       "      <th>Cautiously Optimistic</th>\n",
       "      <th>Concerned/Uncertain</th>\n",
       "      <th>Strong/Confident</th>\n",
       "      <th>Weak/Insecure</th>\n",
       "      <th>Growth-Oriented</th>\n",
       "      <th>Cost-Conscious</th>\n",
       "      <th>Risk-Acknowledging</th>\n",
       "      <th>Company</th>\n",
       "      <th>Date</th>\n",
       "      <th>Sentence_num</th>\n",
       "    </tr>\n",
       "  </thead>\n",
       "  <tbody>\n",
       "    <tr>\n",
       "      <th>count</th>\n",
       "      <td>17105</td>\n",
       "      <td>17105</td>\n",
       "      <td>17105</td>\n",
       "      <td>17105</td>\n",
       "      <td>17105</td>\n",
       "      <td>17105</td>\n",
       "      <td>17105</td>\n",
       "      <td>17105</td>\n",
       "      <td>17105</td>\n",
       "      <td>17105</td>\n",
       "      <td>17105</td>\n",
       "      <td>17105</td>\n",
       "      <td>17105</td>\n",
       "    </tr>\n",
       "    <tr>\n",
       "      <th>unique</th>\n",
       "      <td>2</td>\n",
       "      <td>2</td>\n",
       "      <td>2</td>\n",
       "      <td>2</td>\n",
       "      <td>2</td>\n",
       "      <td>2</td>\n",
       "      <td>2</td>\n",
       "      <td>2</td>\n",
       "      <td>2</td>\n",
       "      <td>2</td>\n",
       "      <td>61</td>\n",
       "      <td>60</td>\n",
       "      <td>402</td>\n",
       "    </tr>\n",
       "    <tr>\n",
       "      <th>top</th>\n",
       "      <td>0</td>\n",
       "      <td>0</td>\n",
       "      <td>1</td>\n",
       "      <td>0</td>\n",
       "      <td>0</td>\n",
       "      <td>0</td>\n",
       "      <td>0</td>\n",
       "      <td>0</td>\n",
       "      <td>0</td>\n",
       "      <td>0</td>\n",
       "      <td>AmerisourceBergen Corp</td>\n",
       "      <td>20170427</td>\n",
       "      <td>1</td>\n",
       "    </tr>\n",
       "    <tr>\n",
       "      <th>freq</th>\n",
       "      <td>10735</td>\n",
       "      <td>15543</td>\n",
       "      <td>10816</td>\n",
       "      <td>15873</td>\n",
       "      <td>14237</td>\n",
       "      <td>13771</td>\n",
       "      <td>15680</td>\n",
       "      <td>11181</td>\n",
       "      <td>16431</td>\n",
       "      <td>14785</td>\n",
       "      <td>801</td>\n",
       "      <td>967</td>\n",
       "      <td>116</td>\n",
       "    </tr>\n",
       "  </tbody>\n",
       "</table>\n",
       "</div>"
      ],
      "text/plain": [
       "       Positive Outlook Negative Outlook Neutral/Factual  \\\n",
       "count             17105            17105           17105   \n",
       "unique                2                2               2   \n",
       "top                   0                0               1   \n",
       "freq              10735            15543           10816   \n",
       "\n",
       "       Cautiously Optimistic Concerned/Uncertain Strong/Confident  \\\n",
       "count                  17105               17105            17105   \n",
       "unique                     2                   2                2   \n",
       "top                        0                   0                0   \n",
       "freq                   15873               14237            13771   \n",
       "\n",
       "       Weak/Insecure Growth-Oriented Cost-Conscious Risk-Acknowledging  \\\n",
       "count          17105           17105          17105              17105   \n",
       "unique             2               2              2                  2   \n",
       "top                0               0              0                  0   \n",
       "freq           15680           11181          16431              14785   \n",
       "\n",
       "                       Company      Date Sentence_num  \n",
       "count                    17105     17105        17105  \n",
       "unique                      61        60          402  \n",
       "top     AmerisourceBergen Corp  20170427            1  \n",
       "freq                       801       967          116  "
      ]
     },
     "execution_count": 8,
     "metadata": {},
     "output_type": "execute_result"
    }
   ],
   "source": [
    "OpenAI_sentiment.describe()"
   ]
  },
  {
   "cell_type": "code",
   "execution_count": null,
   "id": "709162ca",
   "metadata": {},
   "outputs": [
    {
     "name": "stdout",
     "output_type": "stream",
     "text": [
      "64\n"
     ]
    },
    {
     "data": {
      "text/plain": [
       "[('Apache Corporation', '20170223', 'Connection error.'),\n",
       " ('Apache Corporation', '20171102', 'Connection error.'),\n",
       " ('Archer-Daniels-Midland Co', '20170207', 'Connection error.'),\n",
       " ('Archer-Daniels-Midland Co', '20170502', 'Connection error.'),\n",
       " ('Archer-Daniels-Midland Co', '20170801', 'Connection error.'),\n",
       " ('Archer-Daniels-Midland Co', '20171031', 'Connection error.'),\n",
       " ('AT&T Inc.', '20170425', 'Connection error.'),\n",
       " ('AT&T Inc.', '20171024', 'Connection error.'),\n",
       " ('Autodesk Inc.', '20170302', 'Connection error.'),\n",
       " ('Automatic Data Processing', '20170201', 'Connection error.'),\n",
       " ('Automatic Data Processing', '20170503', 'Connection error.'),\n",
       " ('Automatic Data Processing', '20170727', 'Connection error.'),\n",
       " ('Automatic Data Processing', '20171102', 'Connection error.'),\n",
       " ('Avery Dennison Corp', '20170201', 'Connection error.'),\n",
       " ('Avery Dennison Corp', '20170426', 'Connection error.'),\n",
       " ('Avery Dennison Corp', '20170725', 'Connection error.'),\n",
       " ('Avery Dennison Corp', '20171025', 'Connection error.'),\n",
       " ('Ball Corp', '20170504', 'Connection error.'),\n",
       " ('Ball Corp', '20170803', 'Connection error.'),\n",
       " ('Ball Corp', '20171102', 'Connection error.'),\n",
       " ('Baxter International Inc.', '20170426', 'Connection error.'),\n",
       " ('Baxter International Inc.', '20170726', 'Connection error.'),\n",
       " ('Becton Dickinson', '20170803', 'Connection error.'),\n",
       " ('Becton Dickinson', '20171102', 'Connection error.'),\n",
       " ('Biogen Inc.', '20170126', 'Connection error.'),\n",
       " ('Boeing Company', '20170426', 'Connection error.'),\n",
       " ('Booking Holdings Inc', '20170509', 'Connection error.'),\n",
       " ('Booking Holdings Inc', '20171106', 'Connection error.'),\n",
       " ('BorgWarner', '20170209', 'Connection error.'),\n",
       " ('BorgWarner', '20170727', 'Connection error.'),\n",
       " ('Bristol-Myers Squibb', '20170427', 'Connection error.'),\n",
       " ('Bristol-Myers Squibb', '20170727', 'Connection error.'),\n",
       " ('Broadridge Financial Solutions', '20170510', 'Connection error.'),\n",
       " ('CA, Inc.', '20170802', 'Connection error.'),\n",
       " ('Cadence Design Systems', '20170724', 'Connection error.'),\n",
       " ('Campbell Soup', '20170217', 'Connection error.'),\n",
       " ('Campbell Soup', '20170519', 'Connection error.'),\n",
       " ('Campbell Soup', '20170831', 'Connection error.'),\n",
       " ('Campbell Soup', '20171121', 'Connection error.'),\n",
       " ('Cardinal Health Inc.', '20170501', 'Connection error.'),\n",
       " ('Carmax Inc', '20170922', 'Connection error.'),\n",
       " ('Carmax Inc', '20171221', 'Connection error.'),\n",
       " ('Caterpillar Inc.', '20170126', 'Connection error.'),\n",
       " ('Caterpillar Inc.', '20170425', 'Connection error.'),\n",
       " ('Caterpillar Inc.', '20170725', 'Connection error.'),\n",
       " ('Caterpillar Inc.', '20171024', 'Connection error.'),\n",
       " ('Cboe Global Markets', '20170804', 'Connection error.'),\n",
       " ('CBRE Group', '20171103', 'Connection error.'),\n",
       " ('CBS Corp.', '20170807', 'Connection error.'),\n",
       " ('CBS Corp.', '20171102', 'Connection error.'),\n",
       " ('Celgene Corp.', '20170126', 'Connection error.'),\n",
       " ('Celgene Corp.', '20170427', 'Connection error.'),\n",
       " ('Celgene Corp.', '20170727', 'Connection error.'),\n",
       " ('Celgene Corp.', '20171026', 'Connection error.'),\n",
       " ('CenturyLink Inc', '20170802', 'Connection error.'),\n",
       " ('CenturyLink Inc', '20171108', 'Connection error.'),\n",
       " ('Chevron Corp.', '20170127', 'Connection error.'),\n",
       " ('Chevron Corp.', '20170428', 'Connection error.'),\n",
       " ('Chevron Corp.', '20170728', 'Connection error.'),\n",
       " ('Church & Dwight', '20170803', 'Connection error.'),\n",
       " ('Church & Dwight', '20171102', 'Connection error.'),\n",
       " ('CIGNA Corp.', '20170202', 'Connection error.'),\n",
       " ('CIGNA Corp.', '20170505', 'Connection error.'),\n",
       " ('CIGNA Corp.', '20170804', 'Connection error.')]"
      ]
     },
     "execution_count": 9,
     "metadata": {},
     "output_type": "execute_result"
    }
   ],
   "source": [
    "print(len(sentiment_errors))\n",
    "sentiment_errors"
   ]
  },
  {
   "cell_type": "code",
   "execution_count": null,
   "id": "270239a0",
   "metadata": {},
   "outputs": [],
   "source": [
    "###############################################\n",
    "OpenAI_sentiment.to_csv(f'data/data_prep/OpenAI_sentiment.csv', index=False)\n",
    "###############################################"
   ]
  },
  {
   "cell_type": "code",
   "execution_count": null,
   "id": "0a869642",
   "metadata": {},
   "outputs": [],
   "source": [
    "sentiment_errors = pd.DataFrame(sentiment_errors)\n",
    "###############################################\n",
    "sentiment_errors.to_csv(f'data/data_prep/sentiment_errors.csv', index=False)\n",
    "###############################################"
   ]
  },
  {
   "cell_type": "code",
   "execution_count": null,
   "id": "97163ad3",
   "metadata": {},
   "outputs": [],
   "source": [
    "MAEC_OpenAI_sentiment = []\n",
    "MAEC_sentiment_errors = []\n",
    "for Ticker, Date in tqdm(MAEC_filename_data[['Ticker', 'Date']].values):\n",
    "    Date = Date.replace('-', '')\n",
    "    text_path = f\"D:/MAEC_audio/{Date}_{Ticker}/text.txt\"\n",
    "    try:\n",
    "        with open(text_path, 'r', encoding='utf-8', errors='replace') as file:\n",
    "            for i, line in enumerate(file, start=1):\n",
    "                one_hot_encoding = get_sentiment(line.strip())\n",
    "                features_row = np.concatenate([one_hot_encoding, [Ticker, Date, i]])\n",
    "                MAEC_OpenAI_sentiment.append(features_row)\n",
    "    except KeyboardInterrupt: break\n",
    "    except Exception as e:\n",
    "        print((Ticker, Date, str(e)))\n",
    "        MAEC_sentiment_errors.append((Ticker, Date, str(e)))\n",
    "MAEC_OpenAI_sentiment = np.array(MAEC_OpenAI_sentiment, dtype=object)\n",
    "MAEC_OpenAI_sentiment = pd.DataFrame(MAEC_OpenAI_sentiment, columns= sentiment_list + ['Ticker', 'Date', 'Sentence_num'])\n",
    "MAEC_OpenAI_sentiment.info(verbose=False)"
   ]
  },
  {
   "cell_type": "code",
   "execution_count": null,
   "id": "94f47732",
   "metadata": {},
   "outputs": [],
   "source": [
    "MAEC_OpenAI_sentiment.describe()"
   ]
  },
  {
   "cell_type": "code",
   "execution_count": null,
   "id": "16431166",
   "metadata": {},
   "outputs": [],
   "source": [
    "print(len(MAEC_sentiment_errors))\n",
    "MAEC_sentiment_errors"
   ]
  },
  {
   "cell_type": "code",
   "execution_count": null,
   "id": "949c8086",
   "metadata": {},
   "outputs": [],
   "source": [
    "###############################################\n",
    "MAEC_OpenAI_sentiment.to_csv(f'data/data_prep/MAEC_OpenAI_sentiment.csv', index=False)\n",
    "###############################################"
   ]
  },
  {
   "cell_type": "code",
   "execution_count": null,
   "id": "e90a9e1b",
   "metadata": {},
   "outputs": [],
   "source": [
    "MAEC_sentiment_errors = pd.DataFrame(MAEC_sentiment_errors)\n",
    "###############################################\n",
    "MAEC_sentiment_errors.to_csv(f'data/data_prep/MAEC_sentiment_errors.csv', index=False)\n",
    "###############################################"
   ]
  },
  {
   "cell_type": "code",
   "execution_count": null,
   "id": "0a7ea300",
   "metadata": {},
   "outputs": [],
   "source": [
    "['Positive Outlook', 'Negative Outlook', 'Neutral/Factual', 'Cautiously Optimistic', \n",
    " 'Concerned/Uncertain', 'Strong/Confident', 'Weak/Insecure', 'Growth-Oriented', \n",
    " 'Cost-Conscious', 'Risk-Acknowledging']\n",
    "\n",
    "['Positive Outlook', 'Negative Outlook', 'Neutral/Factual', 'Cautiously Optimistic', \n",
    " 'Concerned/Uncertain', 'Strong/Confident', 'Weak/Uncertain', 'Growth-Oriented', \n",
    " 'Cost-Conscious', 'Risk-Acknowledging']"
   ]
  }
 ],
 "metadata": {
  "kernelspec": {
   "display_name": "base",
   "language": "python",
   "name": "python3"
  },
  "language_info": {
   "codemirror_mode": {
    "name": "ipython",
    "version": 3
   },
   "file_extension": ".py",
   "mimetype": "text/x-python",
   "name": "python",
   "nbconvert_exporter": "python",
   "pygments_lexer": "ipython3",
   "version": "3.10.13"
  }
 },
 "nbformat": 4,
 "nbformat_minor": 5
}
