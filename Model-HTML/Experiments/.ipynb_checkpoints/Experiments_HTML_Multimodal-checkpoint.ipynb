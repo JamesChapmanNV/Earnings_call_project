{
 "cells": [
  {
   "cell_type": "code",
   "execution_count": null,
   "metadata": {},
   "outputs": [],
   "source": [
    "import pandas as pd\n",
    "import numpy as np\n",
    "from matplotlib import pyplot as plt\n",
    "from tqdm import tqdm_notebook"
   ]
  },
  {
   "cell_type": "code",
   "execution_count": null,
   "metadata": {},
   "outputs": [],
   "source": [
    "audio_feature = AUDIO_DATA\n",
    "audio_feature_3 = AUDIO_DATA_THREE_DAYS"
   ]
  },
  {
   "cell_type": "code",
   "execution_count": null,
   "metadata": {},
   "outputs": [],
   "source": [
    "text_feature = np.load('SENTENCE_EMBEDDING_DATA')\n",
    "text_feature_3 = np.load('SENTENCE_EMBEDDING_DATA_THREE_DAYS')"
   ]
  },
  {
   "cell_type": "code",
   "execution_count": null,
   "metadata": {},
   "outputs": [],
   "source": [
    "text_audio_embs = [np.concatenate((text_feature[i],np.array(audio_feature[i])),axis=1) for i in range(audio_feature.shape[0])]"
   ]
  },
  {
   "cell_type": "code",
   "execution_count": null,
   "metadata": {},
   "outputs": [],
   "source": [
    "text_audio_embs_3 = [np.concatenate((text_feature_3[i],np.array(audio_feature_3[i])),axis=1) for i in range(audio_feature_3.shape[0])]"
   ]
  },
  {
   "cell_type": "markdown",
   "metadata": {},
   "source": [
    "# Experiments Using GPU"
   ]
  },
  {
   "cell_type": "code",
   "execution_count": null,
   "metadata": {},
   "outputs": [],
   "source": [
    "from transformer import transformers\n",
    "import run_gpu\n",
    "import run\n",
    "import numpy as np\n",
    "import pandas as pd"
   ]
  },
  {
   "cell_type": "markdown",
   "metadata": {},
   "source": [
    "## Find the optimal alpha for connecting two tasks"
   ]
  },
  {
   "cell_type": "markdown",
   "metadata": {},
   "source": [
    "#### 3 days -- validation set"
   ]
  },
  {
   "cell_type": "code",
   "execution_count": null,
   "metadata": {},
   "outputs": [],
   "source": [
    "best_alpha = {'alpha': [],'best':[]}\n",
    "for i in np.arange(0.1,1.1,0.1):   \n",
    "    if __name__ == \"__main__\":\n",
    "        #print('OPTIONS ', options)\n",
    "        # Tuning Parameters: \n",
    "        import easydict\n",
    "        from argparse import ArgumentParser\n",
    "        parser = ArgumentParser()\n",
    "        args = parser.parse_known_args()[0]\n",
    "        args = easydict.EasyDict({\n",
    "                \"num_epochs\": 10,\n",
    "                \"batch_size\": 4,\n",
    "                \"lr\": 2e-5,\n",
    "                \"tb_dir\": \"./runs\",\n",
    "                \"final\": False,\n",
    "                \"max_pool\": False,\n",
    "                \"embedding_size\" : 1051, # 1024(textual feature)+27(audio features)\n",
    "                \"max_length\" : 520,\n",
    "                \"num_heads\" : 2,\n",
    "                \"depth\" : 2,\n",
    "                \"seed\" : 1,\n",
    "                \"lr_warmup\" : 1000,\n",
    "                \"gradient_clipping\" : 1.0,\n",
    "                \"input_dir\": \"SENTENCE_EMBEDDING_DATA\",\n",
    "                \"label_dir\": \"MAIN_LABEL\",\n",
    "                \"label_dir_b\": \"AUXILIARY_LAEBL\",\n",
    "                \"alpha\" : i,\n",
    "                \"gpu\": True,\n",
    "                \"save\": False\n",
    "        })\n",
    "\n",
    "        evaluation = run_gpu.go(args)\n",
    "        print('Results in alpha = ',i)\n",
    "        print(evaluation)\n",
    "        best_alpha['alpha'].append(i)\n",
    "        best_alpha['best'].append(evaluation['Test Accuracy'].iloc[0])\n",
    "        \n",
    "best_alpha = pd.DataFrame(best_alpha)\n",
    "best_alpha.sort_values([\"best\"],ascending=True,inplace=True)\n",
    "best_alpha.to_csv('./results/3_days_result_vocal.csv')\n",
    "\n",
    "best_alpha\n"
   ]
  },
  {
   "cell_type": "markdown",
   "metadata": {},
   "source": [
    "#### 7 days -- validation set"
   ]
  },
  {
   "cell_type": "code",
   "execution_count": null,
   "metadata": {},
   "outputs": [],
   "source": [
    "best_alpha = {'alpha': [],'best':[]}\n",
    "for i in np.arange(0.1,1.1,0.1):   \n",
    "    if __name__ == \"__main__\":\n",
    "        #print('OPTIONS ', options)\n",
    "        # Tuning Parameters: \n",
    "        import easydict\n",
    "        from argparse import ArgumentParser\n",
    "        parser = ArgumentParser()\n",
    "        args = parser.parse_known_args()[0]\n",
    "        args = easydict.EasyDict({\n",
    "                \"num_epochs\": 10,\n",
    "                \"batch_size\": 4,\n",
    "                \"lr\": 2e-5,\n",
    "                \"tb_dir\": \"./runs\",\n",
    "                \"final\": False,\n",
    "                \"max_pool\": False,\n",
    "                \"embedding_size\" : 1051,\n",
    "                \"vocab_size\" : 50000,\n",
    "                \"max_length\" : 520,\n",
    "                \"num_heads\" : 2,\n",
    "                \"depth\" : 2,\n",
    "                \"seed\" : 1,\n",
    "                \"lr_warmup\" : 1000,\n",
    "                \"gradient_clipping\" : 1,\n",
    "                \"input_dir\": \"SENTENCE_EMBEDDING_DATA\",\n",
    "                \"label_dir\": \"MAIN_LABEL\",\n",
    "                \"label_dir_b\": \"AUXILIARY_LAEBL\",\n",
    "                \"alpha\" : i,\n",
    "                \"gpu\": True,\n",
    "                \"save\": False\n",
    "        })\n",
    "\n",
    "        evaluation = run_gpu.go(args)\n",
    "        print('Results in alpha = ',i)\n",
    "        print(evaluation)\n",
    "        best_alpha['alpha'].append(i)\n",
    "        best_alpha['best'].append(evaluation['Test Accuracy'].iloc[0])\n",
    "        \n",
    "best_alpha = pd.DataFrame(best_alpha)\n",
    "best_alpha.sort_values([\"best\"],ascending=True,inplace=True)\n",
    "best_alpha.to_csv('./results/7_days_result_vocal.csv')\n",
    "\n",
    "best_alpha\n"
   ]
  },
  {
   "cell_type": "markdown",
   "metadata": {},
   "source": [
    "#### 15 days -- validation set"
   ]
  },
  {
   "cell_type": "code",
   "execution_count": null,
   "metadata": {},
   "outputs": [],
   "source": [
    "best_alpha = {'alpha': [],'best':[]}\n",
    "for i in np.arange(0.1,1.1,0.1):   \n",
    "    if __name__ == \"__main__\":\n",
    "        #print('OPTIONS ', options)\n",
    "        # Tuning Parameters: \n",
    "        import easydict\n",
    "        from argparse import ArgumentParser\n",
    "        parser = ArgumentParser()\n",
    "        args = parser.parse_known_args()[0]\n",
    "        args = easydict.EasyDict({\n",
    "                \"num_epochs\": 10,\n",
    "                \"batch_size\": 4,\n",
    "                \"lr\": 2e-5,\n",
    "                \"tb_dir\": \"./runs\",\n",
    "                \"final\": False,\n",
    "                \"max_pool\": False,\n",
    "                \"embedding_size\" : 1051,\n",
    "                \"vocab_size\" : 50000,\n",
    "                \"max_length\" : 520,\n",
    "                \"num_heads\" : 2,\n",
    "                \"depth\" : 2,\n",
    "                \"seed\" : 1,\n",
    "                \"lr_warmup\" : 1000,\n",
    "                \"gradient_clipping\" : 1,\n",
    "                \"input_dir\": \"SENTENCE_EMBEDDING_DATA\",\n",
    "                \"label_dir\": \"MAIN_LABEL\",\n",
    "                \"label_dir_b\": \"AUXILIARY_LAEBL\",\n",
    "                \"alpha\" : i,\n",
    "                \"gpu\": True,\n",
    "                \"save\": False\n",
    "        })\n",
    "\n",
    "        evaluation = run_gpu.go(args)\n",
    "        print('Results in alpha = ',i)\n",
    "        print(evaluation)\n",
    "        best_alpha['alpha'].append(i)\n",
    "        best_alpha['best'].append(evaluation['Test Accuracy'].iloc[0])\n",
    "        \n",
    "best_alpha = pd.DataFrame(best_alpha)\n",
    "best_alpha.sort_values([\"best\"],ascending=True,inplace=True)\n",
    "best_alpha.to_csv('./results/15_days_result_vocal.csv')\n",
    "\n",
    "best_alpha\n"
   ]
  },
  {
   "cell_type": "markdown",
   "metadata": {},
   "source": [
    "#### 30 days -- validation set"
   ]
  },
  {
   "cell_type": "code",
   "execution_count": null,
   "metadata": {},
   "outputs": [],
   "source": [
    "best_alpha = {'alpha': [],'best':[]}\n",
    "for i in np.arange(0.1,1.1,0.1):   \n",
    "    if __name__ == \"__main__\":\n",
    "        #print('OPTIONS ', options)\n",
    "        # Tuning Parameters: \n",
    "        import easydict\n",
    "        from argparse import ArgumentParser\n",
    "        parser = ArgumentParser()\n",
    "        args = parser.parse_known_args()[0]\n",
    "        args = easydict.EasyDict({\n",
    "                \"num_epochs\": 10,\n",
    "                \"batch_size\": 4,\n",
    "                \"lr\": 2e-5,\n",
    "                \"tb_dir\": \"./runs\",\n",
    "                \"final\": False,\n",
    "                \"max_pool\": False,\n",
    "                \"embedding_size\" : 1051,\n",
    "                \"vocab_size\" : 50000,\n",
    "                \"max_length\" : 520,\n",
    "                \"num_heads\" : 2,\n",
    "                \"depth\" : 2,\n",
    "                \"seed\" : 1,\n",
    "                \"lr_warmup\" : 1000,\n",
    "                \"gradient_clipping\" : 1,\n",
    "                \"input_dir\": \"SENTENCE_EMBEDDING_DATA\",\n",
    "                \"label_dir\": \"MAIN_LABEL\",\n",
    "                \"label_dir_b\": \"AUXILIARY_LAEBL\",\n",
    "                \"alpha\" : i,\n",
    "                \"gpu\": True,\n",
    "                \"save\": False\n",
    "        })\n",
    "\n",
    "        evaluation = run_gpu.go(args)\n",
    "        print('Results in alpha = ',i)\n",
    "        print(evaluation)\n",
    "        best_alpha['alpha'].append(i)\n",
    "        best_alpha['best'].append(evaluation['Test Accuracy'].iloc[0])\n",
    "        \n",
    "best_alpha = pd.DataFrame(best_alpha)\n",
    "best_alpha.sort_values([\"best\"],ascending=True,inplace=True)\n",
    "best_alpha.to_csv('./results/30_days_result_vocal.csv')\n",
    "\n",
    "best_alpha\n"
   ]
  },
  {
   "cell_type": "code",
   "execution_count": null,
   "metadata": {},
   "outputs": [],
   "source": []
  },
  {
   "cell_type": "code",
   "execution_count": null,
   "metadata": {},
   "outputs": [],
   "source": []
  }
 ],
 "metadata": {
  "kernelspec": {
   "display_name": "Python 3",
   "language": "python",
   "name": "python3"
  },
  "language_info": {
   "codemirror_mode": {
    "name": "ipython",
    "version": 3
   },
   "file_extension": ".py",
   "mimetype": "text/x-python",
   "name": "python",
   "nbconvert_exporter": "python",
   "pygments_lexer": "ipython3",
   "version": "3.5.2"
  }
 },
 "nbformat": 4,
 "nbformat_minor": 2
}
