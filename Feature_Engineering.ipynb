{
 "cells": [
  {
   "cell_type": "markdown",
   "id": "256c016d-3a52-4525-b92f-d9eafcb7899f",
   "metadata": {},
   "source": [
    "# Earnings Call Project: Feature Engineering\n",
    "<br>\n",
    "CIS 831 Deep Learning – Term Project<br>\n",
    "Kansas State University\n",
    "<br><br>\n",
    "James Chapman<br>\n",
    "John Woods<br>\n",
    "Nathan Diehl<br>\n",
    "<br>"
   ]
  },
  {
   "cell_type": "markdown",
   "id": "88afe45e-603e-4403-b191-ecd36af94ef7",
   "metadata": {},
   "source": [
    "This notebook featurizes the text and audio data from the earnings calls. Each earnings calls data comes pre-processed such that each sentence of the call corresponds to 1 line-of-text and 1 MP3 audio file. The transcript text is processed with the Glove–300 pre-trained word embedding, and the audio files are processed with Praat using parselmouth.\n",
    "- Text (Glove–300) [Glove Download](https://nlp.stanford.edu/projects/glove/)\n",
    "- Audio (Praat) [Parselmouth](https://parselmouth.readthedocs.io/en/stable/)\n",
    "\n",
    "The data from this notebook is stored in the \"data/data_prep\" directory as the following CSVs.\n",
    "- glove_features\n",
    "- MAEC_glove_features\n",
    "- praat_features\n",
    "- MAEC_praat_features"
   ]
  },
  {
   "cell_type": "code",
   "execution_count": 3,
   "id": "7d13c039-9d28-49d3-a557-ccf588b46f31",
   "metadata": {},
   "outputs": [],
   "source": [
    "import sys\n",
    "IN_COLAB = \"google.colab\" in sys.modules\n",
    "\n",
    "if IN_COLAB:\n",
    "    !pip install parselmouth\n",
    "    from google.colab import drive\n",
    "    drive.mount('/content/gdrive')\n",
    "    %cd gdrive/My Drive/831"
   ]
  },
  {
   "cell_type": "code",
   "execution_count": 4,
   "id": "a88d0789-36df-4250-90e7-1485c0dc9dfe",
   "metadata": {},
   "outputs": [],
   "source": [
    "import pandas as pd\n",
    "import numpy as np\n",
    "import parselmouth\n",
    "import requests\n",
    "import time\n",
    "import json\n",
    "import csv\n",
    "import re\n",
    "import os\n",
    "from datetime import datetime\n",
    "from tqdm import tqdm"
   ]
  },
  {
   "cell_type": "code",
   "execution_count": 5,
   "id": "f5822f8a-897e-4fd5-b77b-1c38e8d7ae07",
   "metadata": {},
   "outputs": [],
   "source": [
    "MAEC_dir = 'data/MAEC/MAEC_Dataset' # https://github.com/Earnings-Call-Dataset/MAEC-A-Multimodal-Aligned-Earnings-Conference-Call-Dataset-for-Financial-Risk-Prediction\n",
    "\n",
    "############# too big for GitHub ########################\n",
    "############# stored on local disk ######################\n",
    "original_data_dir = r\"D:\\original_dataset\" # https://github.com/GeminiLn/EarningsCall_Dataset \n",
    "MAEC_audio_dir = r\"D:\\MAEC_audio\" \n",
    "# there is a link for the audio data in the MAEC GitHub, but it does not work\n",
    "# I emailed the authors, and they send another link.\n",
    "# There is like a half-million files, but only 19 GB\n",
    "# https://drive.google.com/file/d/1m1GRCHgKn9Vz9IFMC_SpCog6uP3-gFgY/view?usp=drive_link "
   ]
  },
  {
   "cell_type": "code",
   "execution_count": 6,
   "id": "fd7908bf-5a46-4a22-b959-acc40ce09ab3",
   "metadata": {},
   "outputs": [],
   "source": [
    "# Loop through the directory, each folder represents an earnings conference call; the folders are named as \"CompanyName_Date\".\n",
    "filename_data = []\n",
    "for filename in os.listdir(original_data_dir):\n",
    "    company_name, date_str = filename.rsplit('_', 1)\n",
    "    date_str = date_str.split('.')[0] \n",
    "    date = datetime.strptime(date_str, \"%Y%m%d\").strftime(\"%Y-%m-%d\")\n",
    "    filename_data.append([company_name, date])\n",
    "filename_data = pd.DataFrame(filename_data, columns=[\"Company\", \"Date\"])\n",
    "company_ticker = pd.read_csv('data/data_prep/company_ticker.csv')\n",
    "filename_data = filename_data.merge(company_ticker, on=\"Company\", how=\"left\")\n",
    "\n",
    "# Loop through the directory, each folder represents an earnings conference call; the folders are named as \"Date_CompanyName\".\n",
    "MAEC_filename_data = []\n",
    "for filename in os.listdir(MAEC_dir):\n",
    "    date_str, ticker = filename.rsplit('_', 1)\n",
    "    date_str = date_str.split('.')[0] \n",
    "    date = datetime.strptime(date_str, \"%Y%m%d\").strftime(\"%Y-%m-%d\")\n",
    "    MAEC_filename_data.append([ticker, date])\n",
    "MAEC_filename_data = pd.DataFrame(MAEC_filename_data, columns=[\"Ticker\", \"Date\"])"
   ]
  },
  {
   "cell_type": "markdown",
   "id": "10ba719d-872a-4a32-bdef-f497b79901c5",
   "metadata": {},
   "source": [
    "Here, we loop through the original dataset (text & audio) and show each sentence should have one line of text & one audio file."
   ]
  },
  {
   "cell_type": "code",
   "execution_count": 8,
   "id": "4bd22e12-792a-4a04-97ed-f9534c284d25",
   "metadata": {},
   "outputs": [
    {
     "name": "stdout",
     "output_type": "stream",
     "text": [
      "should be zero- 0\n",
      "<class 'pandas.core.frame.DataFrame'>\n",
      "RangeIndex: 572 entries, 0 to 571\n",
      "Data columns (total 5 columns):\n",
      " #   Column        Non-Null Count  Dtype \n",
      "---  ------        --------------  ----- \n",
      " 0   Company       572 non-null    object\n",
      " 1   Date          572 non-null    object\n",
      " 2   Ticker        572 non-null    object\n",
      " 3   text_length   572 non-null    int64 \n",
      " 4   audio_length  572 non-null    int64 \n",
      "dtypes: int64(2), object(3)\n",
      "memory usage: 22.5+ KB\n"
     ]
    }
   ],
   "source": [
    "def each_row(row):\n",
    "    Company = row['Company']\n",
    "    Date = row['Date'].replace('-', '') \n",
    "\n",
    "    text_path = f\"D:/original_dataset/{Company}_{Date}/TextSequence.txt\"\n",
    "    with open(text_path, 'r', encoding='utf-8', errors='replace') as file:\n",
    "        for i, line in enumerate(file, start= 1):\n",
    "            #I'll do something with this \n",
    "            text_length = i\n",
    "\n",
    "    audio_length = 0\n",
    "    audio_dir = f\"D:/original_dataset/{Company}_{Date}/CEO\"\n",
    "    if os.path.exists(audio_dir):\n",
    "        for i, audio_file in enumerate(os.listdir(audio_dir), start= 1):\n",
    "            #I'll do something with this\n",
    "            if audio_file.lower().endswith('.mp3'):\n",
    "                audio_length += 1\n",
    "            \n",
    "    return text_length, audio_length\n",
    "\n",
    "filename_data[['text_length', 'audio_length']] = filename_data.apply(each_row, axis=1, result_type='expand')\n",
    "print('should be zero-', len(filename_data[filename_data['text_length']!= filename_data['audio_length']] ))\n",
    "filename_data.info(verbose=True)"
   ]
  },
  {
   "cell_type": "code",
   "execution_count": 9,
   "id": "dc32f924-639e-47ab-87b4-0063bdcbcda7",
   "metadata": {},
   "outputs": [
    {
     "name": "stdout",
     "output_type": "stream",
     "text": [
      "should be zero- 0\n",
      "<class 'pandas.core.frame.DataFrame'>\n",
      "RangeIndex: 3443 entries, 0 to 3442\n",
      "Data columns (total 4 columns):\n",
      " #   Column        Non-Null Count  Dtype \n",
      "---  ------        --------------  ----- \n",
      " 0   Ticker        3443 non-null   object\n",
      " 1   Date          3443 non-null   object\n",
      " 2   text_length   3443 non-null   int64 \n",
      " 3   audio_length  3443 non-null   int64 \n",
      "dtypes: int64(2), object(2)\n",
      "memory usage: 107.7+ KB\n"
     ]
    }
   ],
   "source": [
    "def each_row(row):\n",
    "    Ticker = row['Ticker']\n",
    "    Date = row['Date'].replace('-', '') \n",
    "\n",
    "    text_path = f\"D:/MAEC_audio/{Date}_{Ticker}/text.txt\"\n",
    "    with open(text_path, 'r', encoding='utf-8', errors='replace') as file:\n",
    "        for i, line in enumerate(file, start= 1):\n",
    "            #I'll do something with this \n",
    "            text_length = i\n",
    "            \n",
    "    audio_length = 0\n",
    "    audio_dir = f\"D:/MAEC_audio/{Date}_{Ticker}\"\n",
    "    if os.path.exists(audio_dir):\n",
    "        for i, audio_file in enumerate(os.listdir(audio_dir), start= 1):\n",
    "            #I'll do something with this\n",
    "            if audio_file.lower().endswith('.mp3'):\n",
    "                audio_length += 1\n",
    "            \n",
    "    return text_length, audio_length\n",
    "\n",
    "MAEC_filename_data[['text_length', 'audio_length']] = MAEC_filename_data.apply(each_row, axis=1, result_type='expand')\n",
    "print('should be zero-', len(MAEC_filename_data[MAEC_filename_data['text_length']!= MAEC_filename_data['audio_length']] ))\n",
    "MAEC_filename_data.info(verbose=True)"
   ]
  },
  {
   "cell_type": "markdown",
   "id": "055641c3-e617-46a5-99f0-4808ba98edcf",
   "metadata": {},
   "source": [
    "# Glove 300 features from meeting transcript text files\n",
    "\n",
    "Glove file can be found at https://nlp.stanford.edu/projects/glove/"
   ]
  },
  {
   "cell_type": "code",
   "execution_count": 11,
   "id": "15b1c409-90c3-4162-9841-10d24dcccbb3",
   "metadata": {},
   "outputs": [
    {
     "name": "stdout",
     "output_type": "stream",
     "text": [
      "Loaded 400000 words from GloVe.\n"
     ]
    }
   ],
   "source": [
    "glove_file_path = r\"C:\\Users\\James\\OneDrive\\Kansas State University\\CIS 831\\Project\\glove.6B\\glove.6B.300d.txt\" \n",
    "glove_model = {}\n",
    "with open(glove_file_path, 'r', encoding='utf-8') as f:\n",
    "    for line in f:\n",
    "        parts = line.split()\n",
    "        word = parts[0]\n",
    "        vector = np.array(parts[1:], dtype='float32')\n",
    "        glove_model[word] = vector\n",
    "print(f\"Loaded {len(glove_model)} words from GloVe.\")\n",
    "\n",
    "contractions = {\n",
    "    \"i'll\": \"i will\", \"can't\": \"cannot\", \"won't\": \"will not\",\n",
    "    \"i'm\": \"i am\", \"he's\": \"he is\", \"she's\": \"she is\",\n",
    "    \"they're\": \"they are\", \"it's\": \"it is\", \"let's\": \"let us\",\n",
    "    \"don't\": \"do not\", \"didn't\": \"did not\", \"doesn't\": \"does not\",\n",
    "    \"you're\": \"you are\", \"we're\": \"we are\", \"they've\": \"they have\",\n",
    "    \"there's\": \"there is\", \"who's\": \"who is\", \"what's\": \"what is\",\n",
    "    \"i'd\": \"i would\", \"he'd\": \"he would\", \"she'd\": \"she would\",\n",
    "    \"they'd\": \"they would\", \"we'd\": \"we would\", \"you'd\": \"you would\",\n",
    "    \"i've\": \"i have\", \"we've\": \"we have\", \"you've\": \"you have\",\n",
    "    \"shouldn't\": \"should not\", \"wouldn't\": \"would not\", \"couldn't\": \"could not\",\n",
    "    \"isn't\": \"is not\", \"aren't\": \"are not\", \"wasn't\": \"was not\",\n",
    "    \"weren't\": \"were not\", \"hasn't\": \"has not\", \"haven't\": \"have not\",\n",
    "    \"hadn't\": \"had not\", \"mustn't\": \"must not\", \"mightn't\": \"might not\",\n",
    "    \"needn't\": \"need not\", \"shan't\": \"shall not\", \"would've\": \"would have\",\n",
    "    \"should've\": \"should have\", \"could've\": \"could have\", \"might've\": \"might have\",\n",
    "    \"must've\": \"must have\", \"let's\": \"let us\", \"he'll\": \"he will\",\n",
    "    \"she'll\": \"she will\", \"they'll\": \"they will\", \"we'll\": \"we will\",\n",
    "    \"you'll\": \"you will\", \"that'll\": \"that will\", \"there'll\": \"there will\",\n",
    "    \"it'll\": \"it will\", \"who'll\": \"who will\", \"how's\": \"how is\",\n",
    "    \"why's\": \"why is\", \"where's\": \"where is\", \"when's\": \"when is\",\n",
    "    \"ain't\": \"is not\", \"couldn't've\": \"could not have\", \"shouldn't've\": \"should not have\",\n",
    "    \"wouldn't've\": \"would not have\", \"oughtn't\": \"ought not\", \"she'd've\": \"she would have\",\n",
    "    \"he'd've\": \"he would have\", \"they'd've\": \"they would have\", \"we'd've\": \"we would have\",\n",
    "    \"you'd've\": \"you would have\", \"i'd've\": \"i would have\", \"it'd've\": \"it would have\",\n",
    "    \"y'all\": \"you all\", \"how'd\": \"how did\", \"what'd\": \"what did\",\n",
    "    \"who'd\": \"who did\", \"where'd\": \"where did\", \"when'd\": \"when did\",\n",
    "    \"why'd\": \"why did\", \"how'll\": \"how will\", \"what'll\": \"what will\",\n",
    "    \"who'll\": \"who will\", \"where'll\": \"where will\", \"when'll\": \"when will\",\n",
    "    \"why'll\": \"why will\"\n",
    "}\n",
    "\n",
    "# Returns 300 dimensional vector (averaged of word vectors). Is there a better way?\n",
    "def get_glove(sentence):\n",
    "    # clean up each sentence\n",
    "    sentence = sentence.lower()\n",
    "    for contraction, full_form in contractions.items():\n",
    "        sentence = sentence.replace(contraction, full_form)\n",
    "    sentence = re.sub(r'[^a-z0-9\\s]', ' ', sentence)\n",
    "\n",
    "    words = sentence.split()\n",
    "    word_embeddings = []\n",
    "    for word in words:\n",
    "        if word in glove_model:\n",
    "            word_embeddings.append(glove_model[word])\n",
    "    if not word_embeddings:\n",
    "        print(sentence)\n",
    "        return [np.zeros(300)], True  # Return a zero vector if no words match\n",
    "    return [np.mean(word_embeddings, axis=0)], False"
   ]
  },
  {
   "cell_type": "code",
   "execution_count": 12,
   "id": "b08d2c2e-2316-4562-bc55-3ff48d60cda8",
   "metadata": {},
   "outputs": [
    {
     "name": "stderr",
     "output_type": "stream",
     "text": [
      " 20%|█▉        | 114/572 [01:23<07:41,  1.01s/it]"
     ]
    },
    {
     "name": "stdout",
     "output_type": "stream",
     "text": [
      "sunit \n"
     ]
    },
    {
     "name": "stderr",
     "output_type": "stream",
     "text": [
      " 30%|██▉       | 169/572 [03:07<13:12,  1.97s/it]"
     ]
    },
    {
     "name": "stdout",
     "output_type": "stream",
     "text": [
      " \n"
     ]
    },
    {
     "name": "stderr",
     "output_type": "stream",
     "text": [
      "100%|██████████| 572/572 [34:04<00:00,  3.57s/it]"
     ]
    },
    {
     "name": "stdout",
     "output_type": "stream",
     "text": [
      "2\n"
     ]
    },
    {
     "name": "stderr",
     "output_type": "stream",
     "text": [
      "\n"
     ]
    }
   ],
   "source": [
    "glove_features = pd.DataFrame()\n",
    "bad_glove = []\n",
    "for Company, Date in tqdm(filename_data[['Company', 'Date']].values):\n",
    "    Date = Date.replace('-', '')\n",
    "    text_path = f\"D:/original_dataset/{Company}_{Date}/TextSequence.txt\"\n",
    "    with open(text_path, 'r', encoding='utf-8', errors='replace') as file:\n",
    "        for i, line in enumerate(file, start=1):\n",
    "            sentence_embedding, sentence_has_error = get_glove(line.strip())\n",
    "            if sentence_has_error: # whenever a sentence is returned as all zeros\n",
    "                bad_glove.append([Company,Date,i,line.strip()])\n",
    "            features_df = pd.DataFrame(sentence_embedding, columns=[f'GloVe_{j}' for j in range(300)])\n",
    "            features_df['Company'] = Company\n",
    "            features_df['Date'] = Date\n",
    "            features_df['Sentence_num'] = i\n",
    "            glove_features = pd.concat([glove_features, features_df], ignore_index=True)\n",
    "\n",
    "print(len(bad_glove))\n",
    "# printed below are the sentences without word embeddings (all zeros)"
   ]
  },
  {
   "cell_type": "code",
   "execution_count": 14,
   "id": "fba7ede0-f26d-42ac-93f3-2c4597634abe",
   "metadata": {},
   "outputs": [
    {
     "name": "stdout",
     "output_type": "stream",
     "text": [
      "<class 'pandas.core.frame.DataFrame'>\n",
      "RangeIndex: 89722 entries, 0 to 89721\n",
      "Data columns (total 303 columns):\n",
      " #    Column        Dtype  \n",
      "---   ------        -----  \n",
      " 0    GloVe_0       float64\n",
      " 1    GloVe_1       float64\n",
      " 2    GloVe_2       float64\n",
      " 3    GloVe_3       float64\n",
      " 4    GloVe_4       float64\n",
      " 5    GloVe_5       float64\n",
      " 6    GloVe_6       float64\n",
      " 7    GloVe_7       float64\n",
      " 8    GloVe_8       float64\n",
      " 9    GloVe_9       float64\n",
      " 10   GloVe_10      float64\n",
      " 11   GloVe_11      float64\n",
      " 12   GloVe_12      float64\n",
      " 13   GloVe_13      float64\n",
      " 14   GloVe_14      float64\n",
      " 15   GloVe_15      float64\n",
      " 16   GloVe_16      float64\n",
      " 17   GloVe_17      float64\n",
      " 18   GloVe_18      float64\n",
      " 19   GloVe_19      float64\n",
      " 20   GloVe_20      float64\n",
      " 21   GloVe_21      float64\n",
      " 22   GloVe_22      float64\n",
      " 23   GloVe_23      float64\n",
      " 24   GloVe_24      float64\n",
      " 25   GloVe_25      float64\n",
      " 26   GloVe_26      float64\n",
      " 27   GloVe_27      float64\n",
      " 28   GloVe_28      float64\n",
      " 29   GloVe_29      float64\n",
      " 30   GloVe_30      float64\n",
      " 31   GloVe_31      float64\n",
      " 32   GloVe_32      float64\n",
      " 33   GloVe_33      float64\n",
      " 34   GloVe_34      float64\n",
      " 35   GloVe_35      float64\n",
      " 36   GloVe_36      float64\n",
      " 37   GloVe_37      float64\n",
      " 38   GloVe_38      float64\n",
      " 39   GloVe_39      float64\n",
      " 40   GloVe_40      float64\n",
      " 41   GloVe_41      float64\n",
      " 42   GloVe_42      float64\n",
      " 43   GloVe_43      float64\n",
      " 44   GloVe_44      float64\n",
      " 45   GloVe_45      float64\n",
      " 46   GloVe_46      float64\n",
      " 47   GloVe_47      float64\n",
      " 48   GloVe_48      float64\n",
      " 49   GloVe_49      float64\n",
      " 50   GloVe_50      float64\n",
      " 51   GloVe_51      float64\n",
      " 52   GloVe_52      float64\n",
      " 53   GloVe_53      float64\n",
      " 54   GloVe_54      float64\n",
      " 55   GloVe_55      float64\n",
      " 56   GloVe_56      float64\n",
      " 57   GloVe_57      float64\n",
      " 58   GloVe_58      float64\n",
      " 59   GloVe_59      float64\n",
      " 60   GloVe_60      float64\n",
      " 61   GloVe_61      float64\n",
      " 62   GloVe_62      float64\n",
      " 63   GloVe_63      float64\n",
      " 64   GloVe_64      float64\n",
      " 65   GloVe_65      float64\n",
      " 66   GloVe_66      float64\n",
      " 67   GloVe_67      float64\n",
      " 68   GloVe_68      float64\n",
      " 69   GloVe_69      float64\n",
      " 70   GloVe_70      float64\n",
      " 71   GloVe_71      float64\n",
      " 72   GloVe_72      float64\n",
      " 73   GloVe_73      float64\n",
      " 74   GloVe_74      float64\n",
      " 75   GloVe_75      float64\n",
      " 76   GloVe_76      float64\n",
      " 77   GloVe_77      float64\n",
      " 78   GloVe_78      float64\n",
      " 79   GloVe_79      float64\n",
      " 80   GloVe_80      float64\n",
      " 81   GloVe_81      float64\n",
      " 82   GloVe_82      float64\n",
      " 83   GloVe_83      float64\n",
      " 84   GloVe_84      float64\n",
      " 85   GloVe_85      float64\n",
      " 86   GloVe_86      float64\n",
      " 87   GloVe_87      float64\n",
      " 88   GloVe_88      float64\n",
      " 89   GloVe_89      float64\n",
      " 90   GloVe_90      float64\n",
      " 91   GloVe_91      float64\n",
      " 92   GloVe_92      float64\n",
      " 93   GloVe_93      float64\n",
      " 94   GloVe_94      float64\n",
      " 95   GloVe_95      float64\n",
      " 96   GloVe_96      float64\n",
      " 97   GloVe_97      float64\n",
      " 98   GloVe_98      float64\n",
      " 99   GloVe_99      float64\n",
      " 100  GloVe_100     float64\n",
      " 101  GloVe_101     float64\n",
      " 102  GloVe_102     float64\n",
      " 103  GloVe_103     float64\n",
      " 104  GloVe_104     float64\n",
      " 105  GloVe_105     float64\n",
      " 106  GloVe_106     float64\n",
      " 107  GloVe_107     float64\n",
      " 108  GloVe_108     float64\n",
      " 109  GloVe_109     float64\n",
      " 110  GloVe_110     float64\n",
      " 111  GloVe_111     float64\n",
      " 112  GloVe_112     float64\n",
      " 113  GloVe_113     float64\n",
      " 114  GloVe_114     float64\n",
      " 115  GloVe_115     float64\n",
      " 116  GloVe_116     float64\n",
      " 117  GloVe_117     float64\n",
      " 118  GloVe_118     float64\n",
      " 119  GloVe_119     float64\n",
      " 120  GloVe_120     float64\n",
      " 121  GloVe_121     float64\n",
      " 122  GloVe_122     float64\n",
      " 123  GloVe_123     float64\n",
      " 124  GloVe_124     float64\n",
      " 125  GloVe_125     float64\n",
      " 126  GloVe_126     float64\n",
      " 127  GloVe_127     float64\n",
      " 128  GloVe_128     float64\n",
      " 129  GloVe_129     float64\n",
      " 130  GloVe_130     float64\n",
      " 131  GloVe_131     float64\n",
      " 132  GloVe_132     float64\n",
      " 133  GloVe_133     float64\n",
      " 134  GloVe_134     float64\n",
      " 135  GloVe_135     float64\n",
      " 136  GloVe_136     float64\n",
      " 137  GloVe_137     float64\n",
      " 138  GloVe_138     float64\n",
      " 139  GloVe_139     float64\n",
      " 140  GloVe_140     float64\n",
      " 141  GloVe_141     float64\n",
      " 142  GloVe_142     float64\n",
      " 143  GloVe_143     float64\n",
      " 144  GloVe_144     float64\n",
      " 145  GloVe_145     float64\n",
      " 146  GloVe_146     float64\n",
      " 147  GloVe_147     float64\n",
      " 148  GloVe_148     float64\n",
      " 149  GloVe_149     float64\n",
      " 150  GloVe_150     float64\n",
      " 151  GloVe_151     float64\n",
      " 152  GloVe_152     float64\n",
      " 153  GloVe_153     float64\n",
      " 154  GloVe_154     float64\n",
      " 155  GloVe_155     float64\n",
      " 156  GloVe_156     float64\n",
      " 157  GloVe_157     float64\n",
      " 158  GloVe_158     float64\n",
      " 159  GloVe_159     float64\n",
      " 160  GloVe_160     float64\n",
      " 161  GloVe_161     float64\n",
      " 162  GloVe_162     float64\n",
      " 163  GloVe_163     float64\n",
      " 164  GloVe_164     float64\n",
      " 165  GloVe_165     float64\n",
      " 166  GloVe_166     float64\n",
      " 167  GloVe_167     float64\n",
      " 168  GloVe_168     float64\n",
      " 169  GloVe_169     float64\n",
      " 170  GloVe_170     float64\n",
      " 171  GloVe_171     float64\n",
      " 172  GloVe_172     float64\n",
      " 173  GloVe_173     float64\n",
      " 174  GloVe_174     float64\n",
      " 175  GloVe_175     float64\n",
      " 176  GloVe_176     float64\n",
      " 177  GloVe_177     float64\n",
      " 178  GloVe_178     float64\n",
      " 179  GloVe_179     float64\n",
      " 180  GloVe_180     float64\n",
      " 181  GloVe_181     float64\n",
      " 182  GloVe_182     float64\n",
      " 183  GloVe_183     float64\n",
      " 184  GloVe_184     float64\n",
      " 185  GloVe_185     float64\n",
      " 186  GloVe_186     float64\n",
      " 187  GloVe_187     float64\n",
      " 188  GloVe_188     float64\n",
      " 189  GloVe_189     float64\n",
      " 190  GloVe_190     float64\n",
      " 191  GloVe_191     float64\n",
      " 192  GloVe_192     float64\n",
      " 193  GloVe_193     float64\n",
      " 194  GloVe_194     float64\n",
      " 195  GloVe_195     float64\n",
      " 196  GloVe_196     float64\n",
      " 197  GloVe_197     float64\n",
      " 198  GloVe_198     float64\n",
      " 199  GloVe_199     float64\n",
      " 200  GloVe_200     float64\n",
      " 201  GloVe_201     float64\n",
      " 202  GloVe_202     float64\n",
      " 203  GloVe_203     float64\n",
      " 204  GloVe_204     float64\n",
      " 205  GloVe_205     float64\n",
      " 206  GloVe_206     float64\n",
      " 207  GloVe_207     float64\n",
      " 208  GloVe_208     float64\n",
      " 209  GloVe_209     float64\n",
      " 210  GloVe_210     float64\n",
      " 211  GloVe_211     float64\n",
      " 212  GloVe_212     float64\n",
      " 213  GloVe_213     float64\n",
      " 214  GloVe_214     float64\n",
      " 215  GloVe_215     float64\n",
      " 216  GloVe_216     float64\n",
      " 217  GloVe_217     float64\n",
      " 218  GloVe_218     float64\n",
      " 219  GloVe_219     float64\n",
      " 220  GloVe_220     float64\n",
      " 221  GloVe_221     float64\n",
      " 222  GloVe_222     float64\n",
      " 223  GloVe_223     float64\n",
      " 224  GloVe_224     float64\n",
      " 225  GloVe_225     float64\n",
      " 226  GloVe_226     float64\n",
      " 227  GloVe_227     float64\n",
      " 228  GloVe_228     float64\n",
      " 229  GloVe_229     float64\n",
      " 230  GloVe_230     float64\n",
      " 231  GloVe_231     float64\n",
      " 232  GloVe_232     float64\n",
      " 233  GloVe_233     float64\n",
      " 234  GloVe_234     float64\n",
      " 235  GloVe_235     float64\n",
      " 236  GloVe_236     float64\n",
      " 237  GloVe_237     float64\n",
      " 238  GloVe_238     float64\n",
      " 239  GloVe_239     float64\n",
      " 240  GloVe_240     float64\n",
      " 241  GloVe_241     float64\n",
      " 242  GloVe_242     float64\n",
      " 243  GloVe_243     float64\n",
      " 244  GloVe_244     float64\n",
      " 245  GloVe_245     float64\n",
      " 246  GloVe_246     float64\n",
      " 247  GloVe_247     float64\n",
      " 248  GloVe_248     float64\n",
      " 249  GloVe_249     float64\n",
      " 250  GloVe_250     float64\n",
      " 251  GloVe_251     float64\n",
      " 252  GloVe_252     float64\n",
      " 253  GloVe_253     float64\n",
      " 254  GloVe_254     float64\n",
      " 255  GloVe_255     float64\n",
      " 256  GloVe_256     float64\n",
      " 257  GloVe_257     float64\n",
      " 258  GloVe_258     float64\n",
      " 259  GloVe_259     float64\n",
      " 260  GloVe_260     float64\n",
      " 261  GloVe_261     float64\n",
      " 262  GloVe_262     float64\n",
      " 263  GloVe_263     float64\n",
      " 264  GloVe_264     float64\n",
      " 265  GloVe_265     float64\n",
      " 266  GloVe_266     float64\n",
      " 267  GloVe_267     float64\n",
      " 268  GloVe_268     float64\n",
      " 269  GloVe_269     float64\n",
      " 270  GloVe_270     float64\n",
      " 271  GloVe_271     float64\n",
      " 272  GloVe_272     float64\n",
      " 273  GloVe_273     float64\n",
      " 274  GloVe_274     float64\n",
      " 275  GloVe_275     float64\n",
      " 276  GloVe_276     float64\n",
      " 277  GloVe_277     float64\n",
      " 278  GloVe_278     float64\n",
      " 279  GloVe_279     float64\n",
      " 280  GloVe_280     float64\n",
      " 281  GloVe_281     float64\n",
      " 282  GloVe_282     float64\n",
      " 283  GloVe_283     float64\n",
      " 284  GloVe_284     float64\n",
      " 285  GloVe_285     float64\n",
      " 286  GloVe_286     float64\n",
      " 287  GloVe_287     float64\n",
      " 288  GloVe_288     float64\n",
      " 289  GloVe_289     float64\n",
      " 290  GloVe_290     float64\n",
      " 291  GloVe_291     float64\n",
      " 292  GloVe_292     float64\n",
      " 293  GloVe_293     float64\n",
      " 294  GloVe_294     float64\n",
      " 295  GloVe_295     float64\n",
      " 296  GloVe_296     float64\n",
      " 297  GloVe_297     float64\n",
      " 298  GloVe_298     float64\n",
      " 299  GloVe_299     float64\n",
      " 300  Company       object \n",
      " 301  Date          object \n",
      " 302  Sentence_num  int64  \n",
      "dtypes: float64(300), int64(1), object(2)\n",
      "memory usage: 207.4+ MB\n"
     ]
    }
   ],
   "source": [
    "glove_features.info(verbose=True)\n",
    "### save ############################################\n",
    "glove_features.to_csv('data/data_prep/glove_features.csv', index=False)\n",
    "#####################################################"
   ]
  },
  {
   "cell_type": "code",
   "execution_count": 15,
   "id": "fcf8c9a3-cf72-4742-a03b-5cf3fa336b5c",
   "metadata": {},
   "outputs": [
    {
     "name": "stderr",
     "output_type": "stream",
     "text": [
      "  3%|▎         | 115/3443 [00:36<26:32,  2.09it/s]"
     ]
    },
    {
     "name": "stdout",
     "output_type": "stream",
     "text": [
      "mininberg \n"
     ]
    },
    {
     "name": "stderr",
     "output_type": "stream",
     "text": [
      "  4%|▍         | 142/3443 [01:05<56:34,  1.03s/it]  "
     ]
    },
    {
     "name": "stdout",
     "output_type": "stream",
     "text": [
      " \n"
     ]
    },
    {
     "name": "stderr",
     "output_type": "stream",
     "text": [
      "  7%|▋         | 232/3443 [02:38<1:10:28,  1.32s/it]"
     ]
    },
    {
     "name": "stdout",
     "output_type": "stream",
     "text": [
      "shrotriya \n"
     ]
    },
    {
     "name": "stderr",
     "output_type": "stream",
     "text": [
      "  8%|▊         | 259/3443 [03:08<36:22,  1.46it/s]  "
     ]
    },
    {
     "name": "stdout",
     "output_type": "stream",
     "text": [
      "  qbfv \n"
     ]
    },
    {
     "name": "stderr",
     "output_type": "stream",
     "text": [
      " 11%|█         | 383/3443 [06:10<1:38:13,  1.93s/it]"
     ]
    },
    {
     "name": "stdout",
     "output_type": "stream",
     "text": [
      " \n"
     ]
    },
    {
     "name": "stderr",
     "output_type": "stream",
     "text": [
      " 13%|█▎        | 446/3443 [08:09<1:40:22,  2.01s/it]"
     ]
    },
    {
     "name": "stdout",
     "output_type": "stream",
     "text": [
      "shrotriya \n"
     ]
    },
    {
     "name": "stderr",
     "output_type": "stream",
     "text": [
      " 14%|█▎        | 470/3443 [09:00<59:13,  1.20s/it]  "
     ]
    },
    {
     "name": "stdout",
     "output_type": "stream",
     "text": [
      " \n"
     ]
    },
    {
     "name": "stderr",
     "output_type": "stream",
     "text": [
      " 18%|█▊        | 617/3443 [15:23<1:00:40,  1.29s/it]"
     ]
    },
    {
     "name": "stdout",
     "output_type": "stream",
     "text": [
      " \n"
     ]
    },
    {
     "name": "stderr",
     "output_type": "stream",
     "text": [
      " 20%|█▉        | 686/3443 [18:49<3:25:35,  4.47s/it]"
     ]
    },
    {
     "name": "stdout",
     "output_type": "stream",
     "text": [
      "shrotriya \n"
     ]
    },
    {
     "name": "stderr",
     "output_type": "stream",
     "text": [
      " 20%|██        | 695/3443 [19:35<3:42:14,  4.85s/it]"
     ]
    },
    {
     "name": "stdout",
     "output_type": "stream",
     "text": [
      "belanoff \n"
     ]
    },
    {
     "name": "stderr",
     "output_type": "stream",
     "text": [
      " 26%|██▋       | 912/3443 [32:11<2:09:36,  3.07s/it]"
     ]
    },
    {
     "name": "stdout",
     "output_type": "stream",
     "text": [
      " \n"
     ]
    },
    {
     "name": "stderr",
     "output_type": "stream",
     "text": [
      " 29%|██▊       | 984/3443 [37:24<4:36:23,  6.74s/it]"
     ]
    },
    {
     "name": "stdout",
     "output_type": "stream",
     "text": [
      "tetrasun \n"
     ]
    },
    {
     "name": "stderr",
     "output_type": "stream",
     "text": [
      " 30%|███       | 1046/3443 [42:36<2:39:31,  3.99s/it]"
     ]
    },
    {
     "name": "stdout",
     "output_type": "stream",
     "text": [
      "shrotriya \n"
     ]
    },
    {
     "name": "stderr",
     "output_type": "stream",
     "text": [
      " 32%|███▏      | 1107/3443 [46:46<1:42:56,  2.64s/it]"
     ]
    },
    {
     "name": "stdout",
     "output_type": "stream",
     "text": [
      " \n"
     ]
    },
    {
     "name": "stderr",
     "output_type": "stream",
     "text": [
      " 35%|███▍      | 1190/3443 [54:59<5:11:30,  8.30s/it]"
     ]
    },
    {
     "name": "stdout",
     "output_type": "stream",
     "text": [
      " \n"
     ]
    },
    {
     "name": "stderr",
     "output_type": "stream",
     "text": [
      " 38%|███▊      | 1298/3443 [1:04:26<2:55:52,  4.92s/it]"
     ]
    },
    {
     "name": "stdout",
     "output_type": "stream",
     "text": [
      " \n"
     ]
    },
    {
     "name": "stderr",
     "output_type": "stream",
     "text": [
      " 40%|███▉      | 1367/3443 [1:13:28<3:38:37,  6.32s/it]"
     ]
    },
    {
     "name": "stdout",
     "output_type": "stream",
     "text": [
      "shrotriya \n"
     ]
    },
    {
     "name": "stderr",
     "output_type": "stream",
     "text": [
      " 41%|████      | 1395/3443 [1:16:56<3:13:12,  5.66s/it]"
     ]
    },
    {
     "name": "stdout",
     "output_type": "stream",
     "text": [
      " \n"
     ]
    },
    {
     "name": "stderr",
     "output_type": "stream",
     "text": [
      " 43%|████▎     | 1489/3443 [1:28:37<2:53:07,  5.32s/it]"
     ]
    },
    {
     "name": "stdout",
     "output_type": "stream",
     "text": [
      "  \n"
     ]
    },
    {
     "name": "stderr",
     "output_type": "stream",
     "text": [
      " 43%|████▎     | 1490/3443 [1:28:52<4:29:08,  8.27s/it]"
     ]
    },
    {
     "name": "stdout",
     "output_type": "stream",
     "text": [
      " \n"
     ]
    },
    {
     "name": "stderr",
     "output_type": "stream",
     "text": [
      " 46%|████▌     | 1590/3443 [1:41:31<4:58:58,  9.68s/it]"
     ]
    },
    {
     "name": "stdout",
     "output_type": "stream",
     "text": [
      " \n"
     ]
    },
    {
     "name": "stderr",
     "output_type": "stream",
     "text": [
      " 47%|████▋     | 1625/3443 [1:47:05<3:44:52,  7.42s/it]"
     ]
    },
    {
     "name": "stdout",
     "output_type": "stream",
     "text": [
      "idriver \n"
     ]
    },
    {
     "name": "stderr",
     "output_type": "stream",
     "text": [
      " 52%|█████▏    | 1776/3443 [2:05:48<3:35:37,  7.76s/it]"
     ]
    },
    {
     "name": "stdout",
     "output_type": "stream",
     "text": [
      "   \n"
     ]
    },
    {
     "name": "stderr",
     "output_type": "stream",
     "text": [
      " 52%|█████▏    | 1777/3443 [2:06:01<4:22:21,  9.45s/it]"
     ]
    },
    {
     "name": "stdout",
     "output_type": "stream",
     "text": [
      "cableone \n"
     ]
    },
    {
     "name": "stderr",
     "output_type": "stream",
     "text": [
      " 52%|█████▏    | 1793/3443 [2:08:24<3:44:40,  8.17s/it]"
     ]
    },
    {
     "name": "stdout",
     "output_type": "stream",
     "text": [
      " \n"
     ]
    },
    {
     "name": "stderr",
     "output_type": "stream",
     "text": [
      " 53%|█████▎    | 1840/3443 [2:14:48<4:17:42,  9.65s/it]"
     ]
    },
    {
     "name": "stdout",
     "output_type": "stream",
     "text": [
      " \n"
     ]
    },
    {
     "name": "stderr",
     "output_type": "stream",
     "text": [
      " 54%|█████▍    | 1854/3443 [2:16:35<3:29:00,  7.89s/it]"
     ]
    },
    {
     "name": "stdout",
     "output_type": "stream",
     "text": [
      " \n"
     ]
    },
    {
     "name": "stderr",
     "output_type": "stream",
     "text": [
      " 54%|█████▍    | 1868/3443 [2:19:03<4:10:45,  9.55s/it]"
     ]
    },
    {
     "name": "stdout",
     "output_type": "stream",
     "text": [
      "shrotriya \n"
     ]
    },
    {
     "name": "stderr",
     "output_type": "stream",
     "text": [
      " 56%|█████▌    | 1913/3443 [2:25:15<2:57:06,  6.95s/it]"
     ]
    },
    {
     "name": "stdout",
     "output_type": "stream",
     "text": [
      " thatshowilip \n"
     ]
    },
    {
     "name": "stderr",
     "output_type": "stream",
     "text": [
      " 61%|██████    | 2090/3443 [2:48:47<2:22:28,  6.32s/it]"
     ]
    },
    {
     "name": "stdout",
     "output_type": "stream",
     "text": [
      " \n"
     ]
    },
    {
     "name": "stderr",
     "output_type": "stream",
     "text": [
      " 61%|██████    | 2097/3443 [2:50:02<3:59:55, 10.70s/it]"
     ]
    },
    {
     "name": "stdout",
     "output_type": "stream",
     "text": [
      " \n"
     ]
    },
    {
     "name": "stderr",
     "output_type": "stream",
     "text": [
      " 66%|██████▌   | 2277/3443 [3:19:23<4:38:27, 14.33s/it]"
     ]
    },
    {
     "name": "stdout",
     "output_type": "stream",
     "text": [
      " \n"
     ]
    },
    {
     "name": "stderr",
     "output_type": "stream",
     "text": [
      " 67%|██████▋   | 2316/3443 [3:26:30<3:20:55, 10.70s/it]"
     ]
    },
    {
     "name": "stdout",
     "output_type": "stream",
     "text": [
      " \n"
     ]
    },
    {
     "name": "stderr",
     "output_type": "stream",
     "text": [
      " 71%|███████▏  | 2457/3443 [3:48:20<3:53:06, 14.19s/it]"
     ]
    },
    {
     "name": "stdout",
     "output_type": "stream",
     "text": [
      "cableone \n"
     ]
    },
    {
     "name": "stderr",
     "output_type": "stream",
     "text": [
      " 74%|███████▍  | 2558/3443 [4:09:14<4:02:29, 16.44s/it]"
     ]
    },
    {
     "name": "stdout",
     "output_type": "stream",
     "text": [
      " \n"
     ]
    },
    {
     "name": "stderr",
     "output_type": "stream",
     "text": [
      " 75%|███████▍  | 2575/3443 [4:14:42<4:16:32, 17.73s/it]"
     ]
    },
    {
     "name": "stdout",
     "output_type": "stream",
     "text": [
      " \n"
     ]
    },
    {
     "name": "stderr",
     "output_type": "stream",
     "text": [
      " 75%|███████▌  | 2584/3443 [4:17:05<3:19:33, 13.94s/it]"
     ]
    },
    {
     "name": "stdout",
     "output_type": "stream",
     "text": [
      " \n",
      " \n"
     ]
    },
    {
     "name": "stderr",
     "output_type": "stream",
     "text": [
      " 76%|███████▌  | 2601/3443 [4:23:22<3:59:34, 17.07s/it]"
     ]
    },
    {
     "name": "stdout",
     "output_type": "stream",
     "text": [
      " \n"
     ]
    },
    {
     "name": "stderr",
     "output_type": "stream",
     "text": [
      " 77%|███████▋  | 2649/3443 [4:39:43<5:38:20, 25.57s/it]"
     ]
    },
    {
     "name": "stdout",
     "output_type": "stream",
     "text": [
      " \n"
     ]
    },
    {
     "name": "stderr",
     "output_type": "stream",
     "text": [
      " 78%|███████▊  | 2676/3443 [4:48:25<5:16:52, 24.79s/it]"
     ]
    },
    {
     "name": "stdout",
     "output_type": "stream",
     "text": [
      " \n"
     ]
    },
    {
     "name": "stderr",
     "output_type": "stream",
     "text": [
      " 78%|███████▊  | 2682/3443 [4:50:28<4:18:00, 20.34s/it]"
     ]
    },
    {
     "name": "stdout",
     "output_type": "stream",
     "text": [
      "meenal \n"
     ]
    },
    {
     "name": "stderr",
     "output_type": "stream",
     "text": [
      " 78%|███████▊  | 2691/3443 [4:54:14<5:12:20, 24.92s/it]"
     ]
    },
    {
     "name": "stdout",
     "output_type": "stream",
     "text": [
      " \n"
     ]
    },
    {
     "name": "stderr",
     "output_type": "stream",
     "text": [
      " 78%|███████▊  | 2694/3443 [4:55:09<4:42:14, 22.61s/it]"
     ]
    },
    {
     "name": "stdout",
     "output_type": "stream",
     "text": [
      " \n"
     ]
    },
    {
     "name": "stderr",
     "output_type": "stream",
     "text": [
      " 78%|███████▊  | 2699/3443 [4:56:43<3:30:42, 16.99s/it]"
     ]
    },
    {
     "name": "stdout",
     "output_type": "stream",
     "text": [
      "cableone \n"
     ]
    },
    {
     "name": "stderr",
     "output_type": "stream",
     "text": [
      " 79%|███████▊  | 2705/3443 [4:58:52<4:15:02, 20.74s/it]"
     ]
    },
    {
     "name": "stdout",
     "output_type": "stream",
     "text": [
      " \n"
     ]
    },
    {
     "name": "stderr",
     "output_type": "stream",
     "text": [
      " 79%|███████▉  | 2734/3443 [5:08:52<3:31:43, 17.92s/it]"
     ]
    },
    {
     "name": "stdout",
     "output_type": "stream",
     "text": [
      " \n"
     ]
    },
    {
     "name": "stderr",
     "output_type": "stream",
     "text": [
      " 80%|████████  | 2757/3443 [5:17:45<5:21:07, 28.09s/it]"
     ]
    },
    {
     "name": "stdout",
     "output_type": "stream",
     "text": [
      "hyperscale \n"
     ]
    },
    {
     "name": "stderr",
     "output_type": "stream",
     "text": [
      " 81%|████████▏ | 2801/3443 [5:33:45<3:51:22, 21.62s/it]"
     ]
    },
    {
     "name": "stdout",
     "output_type": "stream",
     "text": [
      " \n"
     ]
    },
    {
     "name": "stderr",
     "output_type": "stream",
     "text": [
      " 82%|████████▏ | 2810/3443 [5:36:58<3:30:04, 19.91s/it]"
     ]
    },
    {
     "name": "stdout",
     "output_type": "stream",
     "text": [
      " \n",
      " \n",
      " \n"
     ]
    },
    {
     "name": "stderr",
     "output_type": "stream",
     "text": [
      " 82%|████████▏ | 2819/3443 [5:40:12<3:30:22, 20.23s/it]"
     ]
    },
    {
     "name": "stdout",
     "output_type": "stream",
     "text": [
      " \n"
     ]
    },
    {
     "name": "stderr",
     "output_type": "stream",
     "text": [
      " 82%|████████▏ | 2832/3443 [5:45:53<5:45:00, 33.88s/it]"
     ]
    },
    {
     "name": "stdout",
     "output_type": "stream",
     "text": [
      " \n",
      " \n",
      " \n"
     ]
    },
    {
     "name": "stderr",
     "output_type": "stream",
     "text": [
      " 83%|████████▎ | 2852/3443 [5:52:49<2:58:55, 18.17s/it]"
     ]
    },
    {
     "name": "stdout",
     "output_type": "stream",
     "text": [
      " \n"
     ]
    },
    {
     "name": "stderr",
     "output_type": "stream",
     "text": [
      " 83%|████████▎ | 2857/3443 [5:54:04<2:21:26, 14.48s/it]"
     ]
    },
    {
     "name": "stdout",
     "output_type": "stream",
     "text": [
      " \n"
     ]
    },
    {
     "name": "stderr",
     "output_type": "stream",
     "text": [
      " 83%|████████▎ | 2858/3443 [5:54:29<2:52:31, 17.69s/it]"
     ]
    },
    {
     "name": "stdout",
     "output_type": "stream",
     "text": [
      " \n"
     ]
    },
    {
     "name": "stderr",
     "output_type": "stream",
     "text": [
      " 84%|████████▍ | 2903/3443 [6:13:54<3:30:04, 23.34s/it]"
     ]
    },
    {
     "name": "stdout",
     "output_type": "stream",
     "text": [
      " \n"
     ]
    },
    {
     "name": "stderr",
     "output_type": "stream",
     "text": [
      " 85%|████████▍ | 2924/3443 [6:21:56<4:11:12, 29.04s/it]"
     ]
    },
    {
     "name": "stdout",
     "output_type": "stream",
     "text": [
      " \n"
     ]
    },
    {
     "name": "stderr",
     "output_type": "stream",
     "text": [
      " 85%|████████▌ | 2928/3443 [6:23:25<3:21:18, 23.45s/it]"
     ]
    },
    {
     "name": "stdout",
     "output_type": "stream",
     "text": [
      " \n",
      " \n"
     ]
    },
    {
     "name": "stderr",
     "output_type": "stream",
     "text": [
      " 85%|████████▌ | 2932/3443 [6:24:27<2:06:27, 14.85s/it]"
     ]
    },
    {
     "name": "stdout",
     "output_type": "stream",
     "text": [
      " \n"
     ]
    },
    {
     "name": "stderr",
     "output_type": "stream",
     "text": [
      " 85%|████████▌ | 2937/3443 [6:26:18<3:04:17, 21.85s/it]"
     ]
    },
    {
     "name": "stdout",
     "output_type": "stream",
     "text": [
      " \n",
      " \n"
     ]
    },
    {
     "name": "stderr",
     "output_type": "stream",
     "text": [
      " 88%|████████▊ | 3013/3443 [6:52:19<2:03:29, 17.23s/it]"
     ]
    },
    {
     "name": "stdout",
     "output_type": "stream",
     "text": [
      " \n",
      " \n"
     ]
    },
    {
     "name": "stderr",
     "output_type": "stream",
     "text": [
      " 89%|████████▉ | 3064/3443 [7:14:02<3:09:01, 29.92s/it]"
     ]
    },
    {
     "name": "stdout",
     "output_type": "stream",
     "text": [
      "cableone \n"
     ]
    },
    {
     "name": "stderr",
     "output_type": "stream",
     "text": [
      " 89%|████████▉ | 3065/3443 [7:14:31<3:06:57, 29.68s/it]"
     ]
    },
    {
     "name": "stdout",
     "output_type": "stream",
     "text": [
      "sunit \n"
     ]
    },
    {
     "name": "stderr",
     "output_type": "stream",
     "text": [
      " 90%|████████▉ | 3092/3443 [7:25:46<2:06:43, 21.66s/it]"
     ]
    },
    {
     "name": "stdout",
     "output_type": "stream",
     "text": [
      "miamifoundation \n"
     ]
    },
    {
     "name": "stderr",
     "output_type": "stream",
     "text": [
      " 90%|█████████ | 3104/3443 [7:31:38<2:43:56, 29.02s/it]"
     ]
    },
    {
     "name": "stdout",
     "output_type": "stream",
     "text": [
      " \n"
     ]
    },
    {
     "name": "stderr",
     "output_type": "stream",
     "text": [
      " 90%|█████████ | 3108/3443 [7:34:04<2:58:14, 31.92s/it]"
     ]
    },
    {
     "name": "stdout",
     "output_type": "stream",
     "text": [
      " \n"
     ]
    },
    {
     "name": "stderr",
     "output_type": "stream",
     "text": [
      " 90%|█████████ | 3115/3443 [7:37:26<2:36:09, 28.56s/it]"
     ]
    },
    {
     "name": "stdout",
     "output_type": "stream",
     "text": [
      " \n"
     ]
    },
    {
     "name": "stderr",
     "output_type": "stream",
     "text": [
      " 91%|█████████ | 3135/3443 [7:46:20<2:14:20, 26.17s/it]"
     ]
    },
    {
     "name": "stdout",
     "output_type": "stream",
     "text": [
      " \n"
     ]
    },
    {
     "name": "stderr",
     "output_type": "stream",
     "text": [
      " 92%|█████████▏| 3152/3443 [7:53:46<1:48:44, 22.42s/it]"
     ]
    },
    {
     "name": "stdout",
     "output_type": "stream",
     "text": [
      " \n"
     ]
    },
    {
     "name": "stderr",
     "output_type": "stream",
     "text": [
      " 92%|█████████▏| 3159/3443 [7:56:22<1:42:38, 21.69s/it]"
     ]
    },
    {
     "name": "stdout",
     "output_type": "stream",
     "text": [
      "psd2 \n"
     ]
    },
    {
     "name": "stderr",
     "output_type": "stream",
     "text": [
      " 93%|█████████▎| 3187/3443 [8:08:27<1:34:35, 22.17s/it]"
     ]
    },
    {
     "name": "stdout",
     "output_type": "stream",
     "text": [
      " \n"
     ]
    },
    {
     "name": "stderr",
     "output_type": "stream",
     "text": [
      " 93%|█████████▎| 3192/3443 [8:11:22<2:22:02, 33.95s/it]"
     ]
    },
    {
     "name": "stdout",
     "output_type": "stream",
     "text": [
      " \n"
     ]
    },
    {
     "name": "stderr",
     "output_type": "stream",
     "text": [
      " 94%|█████████▎| 3221/3443 [8:24:30<2:12:07, 35.71s/it]"
     ]
    },
    {
     "name": "stdout",
     "output_type": "stream",
     "text": [
      " \n"
     ]
    },
    {
     "name": "stderr",
     "output_type": "stream",
     "text": [
      " 94%|█████████▎| 3225/3443 [8:27:07<2:18:58, 38.25s/it]"
     ]
    },
    {
     "name": "stdout",
     "output_type": "stream",
     "text": [
      " \n"
     ]
    },
    {
     "name": "stderr",
     "output_type": "stream",
     "text": [
      " 94%|█████████▍| 3241/3443 [8:36:38<2:17:54, 40.96s/it]"
     ]
    },
    {
     "name": "stdout",
     "output_type": "stream",
     "text": [
      " \n"
     ]
    },
    {
     "name": "stderr",
     "output_type": "stream",
     "text": [
      " 94%|█████████▍| 3247/3443 [8:38:03<55:02, 16.85s/it]  "
     ]
    },
    {
     "name": "stdout",
     "output_type": "stream",
     "text": [
      " \n",
      " \n"
     ]
    },
    {
     "name": "stderr",
     "output_type": "stream",
     "text": [
      " 95%|█████████▍| 3261/3443 [8:44:33<1:23:11, 27.43s/it]"
     ]
    },
    {
     "name": "stdout",
     "output_type": "stream",
     "text": [
      " \n"
     ]
    },
    {
     "name": "stderr",
     "output_type": "stream",
     "text": [
      " 95%|█████████▍| 3268/3443 [8:49:04<1:29:46, 30.78s/it]"
     ]
    },
    {
     "name": "stdout",
     "output_type": "stream",
     "text": [
      " \n"
     ]
    },
    {
     "name": "stderr",
     "output_type": "stream",
     "text": [
      " 95%|█████████▌| 3279/3443 [8:56:05<1:33:19, 34.14s/it]"
     ]
    },
    {
     "name": "stdout",
     "output_type": "stream",
     "text": [
      " \n"
     ]
    },
    {
     "name": "stderr",
     "output_type": "stream",
     "text": [
      " 96%|█████████▌| 3294/3443 [9:03:42<1:26:27, 34.82s/it]"
     ]
    },
    {
     "name": "stdout",
     "output_type": "stream",
     "text": [
      " \n"
     ]
    },
    {
     "name": "stderr",
     "output_type": "stream",
     "text": [
      " 97%|█████████▋| 3326/3443 [9:22:17<1:11:28, 36.65s/it]"
     ]
    },
    {
     "name": "stdout",
     "output_type": "stream",
     "text": [
      " \n"
     ]
    },
    {
     "name": "stderr",
     "output_type": "stream",
     "text": [
      " 97%|█████████▋| 3327/3443 [9:22:35<1:00:01, 31.05s/it]"
     ]
    },
    {
     "name": "stdout",
     "output_type": "stream",
     "text": [
      " \n"
     ]
    },
    {
     "name": "stderr",
     "output_type": "stream",
     "text": [
      " 97%|█████████▋| 3336/3443 [9:27:14<56:28, 31.67s/it]  "
     ]
    },
    {
     "name": "stdout",
     "output_type": "stream",
     "text": [
      " \n"
     ]
    },
    {
     "name": "stderr",
     "output_type": "stream",
     "text": [
      " 97%|█████████▋| 3348/3443 [9:32:42<42:34, 26.89s/it]  "
     ]
    },
    {
     "name": "stdout",
     "output_type": "stream",
     "text": [
      " \n"
     ]
    },
    {
     "name": "stderr",
     "output_type": "stream",
     "text": [
      " 98%|█████████▊| 3369/3443 [9:45:14<45:38, 37.00s/it]"
     ]
    },
    {
     "name": "stdout",
     "output_type": "stream",
     "text": [
      "chekanow \n"
     ]
    },
    {
     "name": "stderr",
     "output_type": "stream",
     "text": [
      " 98%|█████████▊| 3371/3443 [9:46:36<46:08, 38.45s/it]"
     ]
    },
    {
     "name": "stdout",
     "output_type": "stream",
     "text": [
      " \n"
     ]
    },
    {
     "name": "stderr",
     "output_type": "stream",
     "text": [
      " 98%|█████████▊| 3374/3443 [9:48:31<44:11, 38.42s/it]"
     ]
    },
    {
     "name": "stdout",
     "output_type": "stream",
     "text": [
      " \n"
     ]
    },
    {
     "name": "stderr",
     "output_type": "stream",
     "text": [
      " 98%|█████████▊| 3376/3443 [9:49:37<37:52, 33.91s/it]"
     ]
    },
    {
     "name": "stdout",
     "output_type": "stream",
     "text": [
      " \n"
     ]
    },
    {
     "name": "stderr",
     "output_type": "stream",
     "text": [
      " 98%|█████████▊| 3381/3443 [9:52:34<36:11, 35.02s/it]"
     ]
    },
    {
     "name": "stdout",
     "output_type": "stream",
     "text": [
      " \n"
     ]
    },
    {
     "name": "stderr",
     "output_type": "stream",
     "text": [
      " 98%|█████████▊| 3383/3443 [9:53:27<30:44, 30.74s/it]"
     ]
    },
    {
     "name": "stdout",
     "output_type": "stream",
     "text": [
      " \n"
     ]
    },
    {
     "name": "stderr",
     "output_type": "stream",
     "text": [
      " 98%|█████████▊| 3389/3443 [9:56:40<30:20, 33.71s/it]"
     ]
    },
    {
     "name": "stdout",
     "output_type": "stream",
     "text": [
      "fenofibrate \n"
     ]
    },
    {
     "name": "stderr",
     "output_type": "stream",
     "text": [
      " 99%|█████████▊| 3397/3443 [10:00:36<22:27, 29.29s/it]"
     ]
    },
    {
     "name": "stdout",
     "output_type": "stream",
     "text": [
      " \n"
     ]
    },
    {
     "name": "stderr",
     "output_type": "stream",
     "text": [
      " 99%|█████████▉| 3408/3443 [10:05:40<19:01, 32.62s/it]"
     ]
    },
    {
     "name": "stdout",
     "output_type": "stream",
     "text": [
      " \n",
      " \n",
      " \n"
     ]
    },
    {
     "name": "stderr",
     "output_type": "stream",
     "text": [
      " 99%|█████████▉| 3409/3443 [10:06:00<16:24, 28.97s/it]"
     ]
    },
    {
     "name": "stdout",
     "output_type": "stream",
     "text": [
      " \n"
     ]
    },
    {
     "name": "stderr",
     "output_type": "stream",
     "text": [
      "100%|██████████| 3443/3443 [10:22:11<00:00, 10.84s/it]"
     ]
    },
    {
     "name": "stdout",
     "output_type": "stream",
     "text": [
      "104\n"
     ]
    },
    {
     "name": "stderr",
     "output_type": "stream",
     "text": [
      "\n"
     ]
    }
   ],
   "source": [
    "MAEC_glove_features = pd.DataFrame()\n",
    "MAEC_bad_glove = []\n",
    "for Ticker, Date in tqdm(MAEC_filename_data[['Ticker', 'Date']].values):\n",
    "    Date = Date.replace('-', '')\n",
    "    text_path = f\"D:/MAEC_audio/{Date}_{Ticker}/text.txt\"\n",
    "    with open(text_path, 'r', encoding='utf-8', errors='replace') as file:\n",
    "        for i, line in enumerate(file, start=1):\n",
    "            sentence_embedding, sentence_has_error = get_glove(line.strip())\n",
    "            if sentence_has_error:  # whenever a sentence is returned as all zeros\n",
    "                MAEC_bad_glove.append([Company,Date,i,line.strip()])\n",
    "            features_df = pd.DataFrame(sentence_embedding, columns=[f'GloVe_{j}' for j in range(300)])\n",
    "            features_df['Ticker'] = Ticker\n",
    "            features_df['Date'] = Date\n",
    "            features_df['Sentence_num'] = i\n",
    "            MAEC_glove_features = pd.concat([MAEC_glove_features, features_df], ignore_index=True)\n",
    "\n",
    "print(len(MAEC_bad_glove))\n",
    "# printed below are the sentences without word embeddings (all zeros)"
   ]
  },
  {
   "cell_type": "code",
   "execution_count": 16,
   "id": "905e7aaf-787c-466f-876a-26d35f4b51d3",
   "metadata": {},
   "outputs": [
    {
     "name": "stdout",
     "output_type": "stream",
     "text": [
      "<class 'pandas.core.frame.DataFrame'>\n",
      "RangeIndex: 394277 entries, 0 to 394276\n",
      "Data columns (total 303 columns):\n",
      " #    Column        Dtype  \n",
      "---   ------        -----  \n",
      " 0    GloVe_0       float64\n",
      " 1    GloVe_1       float64\n",
      " 2    GloVe_2       float64\n",
      " 3    GloVe_3       float64\n",
      " 4    GloVe_4       float64\n",
      " 5    GloVe_5       float64\n",
      " 6    GloVe_6       float64\n",
      " 7    GloVe_7       float64\n",
      " 8    GloVe_8       float64\n",
      " 9    GloVe_9       float64\n",
      " 10   GloVe_10      float64\n",
      " 11   GloVe_11      float64\n",
      " 12   GloVe_12      float64\n",
      " 13   GloVe_13      float64\n",
      " 14   GloVe_14      float64\n",
      " 15   GloVe_15      float64\n",
      " 16   GloVe_16      float64\n",
      " 17   GloVe_17      float64\n",
      " 18   GloVe_18      float64\n",
      " 19   GloVe_19      float64\n",
      " 20   GloVe_20      float64\n",
      " 21   GloVe_21      float64\n",
      " 22   GloVe_22      float64\n",
      " 23   GloVe_23      float64\n",
      " 24   GloVe_24      float64\n",
      " 25   GloVe_25      float64\n",
      " 26   GloVe_26      float64\n",
      " 27   GloVe_27      float64\n",
      " 28   GloVe_28      float64\n",
      " 29   GloVe_29      float64\n",
      " 30   GloVe_30      float64\n",
      " 31   GloVe_31      float64\n",
      " 32   GloVe_32      float64\n",
      " 33   GloVe_33      float64\n",
      " 34   GloVe_34      float64\n",
      " 35   GloVe_35      float64\n",
      " 36   GloVe_36      float64\n",
      " 37   GloVe_37      float64\n",
      " 38   GloVe_38      float64\n",
      " 39   GloVe_39      float64\n",
      " 40   GloVe_40      float64\n",
      " 41   GloVe_41      float64\n",
      " 42   GloVe_42      float64\n",
      " 43   GloVe_43      float64\n",
      " 44   GloVe_44      float64\n",
      " 45   GloVe_45      float64\n",
      " 46   GloVe_46      float64\n",
      " 47   GloVe_47      float64\n",
      " 48   GloVe_48      float64\n",
      " 49   GloVe_49      float64\n",
      " 50   GloVe_50      float64\n",
      " 51   GloVe_51      float64\n",
      " 52   GloVe_52      float64\n",
      " 53   GloVe_53      float64\n",
      " 54   GloVe_54      float64\n",
      " 55   GloVe_55      float64\n",
      " 56   GloVe_56      float64\n",
      " 57   GloVe_57      float64\n",
      " 58   GloVe_58      float64\n",
      " 59   GloVe_59      float64\n",
      " 60   GloVe_60      float64\n",
      " 61   GloVe_61      float64\n",
      " 62   GloVe_62      float64\n",
      " 63   GloVe_63      float64\n",
      " 64   GloVe_64      float64\n",
      " 65   GloVe_65      float64\n",
      " 66   GloVe_66      float64\n",
      " 67   GloVe_67      float64\n",
      " 68   GloVe_68      float64\n",
      " 69   GloVe_69      float64\n",
      " 70   GloVe_70      float64\n",
      " 71   GloVe_71      float64\n",
      " 72   GloVe_72      float64\n",
      " 73   GloVe_73      float64\n",
      " 74   GloVe_74      float64\n",
      " 75   GloVe_75      float64\n",
      " 76   GloVe_76      float64\n",
      " 77   GloVe_77      float64\n",
      " 78   GloVe_78      float64\n",
      " 79   GloVe_79      float64\n",
      " 80   GloVe_80      float64\n",
      " 81   GloVe_81      float64\n",
      " 82   GloVe_82      float64\n",
      " 83   GloVe_83      float64\n",
      " 84   GloVe_84      float64\n",
      " 85   GloVe_85      float64\n",
      " 86   GloVe_86      float64\n",
      " 87   GloVe_87      float64\n",
      " 88   GloVe_88      float64\n",
      " 89   GloVe_89      float64\n",
      " 90   GloVe_90      float64\n",
      " 91   GloVe_91      float64\n",
      " 92   GloVe_92      float64\n",
      " 93   GloVe_93      float64\n",
      " 94   GloVe_94      float64\n",
      " 95   GloVe_95      float64\n",
      " 96   GloVe_96      float64\n",
      " 97   GloVe_97      float64\n",
      " 98   GloVe_98      float64\n",
      " 99   GloVe_99      float64\n",
      " 100  GloVe_100     float64\n",
      " 101  GloVe_101     float64\n",
      " 102  GloVe_102     float64\n",
      " 103  GloVe_103     float64\n",
      " 104  GloVe_104     float64\n",
      " 105  GloVe_105     float64\n",
      " 106  GloVe_106     float64\n",
      " 107  GloVe_107     float64\n",
      " 108  GloVe_108     float64\n",
      " 109  GloVe_109     float64\n",
      " 110  GloVe_110     float64\n",
      " 111  GloVe_111     float64\n",
      " 112  GloVe_112     float64\n",
      " 113  GloVe_113     float64\n",
      " 114  GloVe_114     float64\n",
      " 115  GloVe_115     float64\n",
      " 116  GloVe_116     float64\n",
      " 117  GloVe_117     float64\n",
      " 118  GloVe_118     float64\n",
      " 119  GloVe_119     float64\n",
      " 120  GloVe_120     float64\n",
      " 121  GloVe_121     float64\n",
      " 122  GloVe_122     float64\n",
      " 123  GloVe_123     float64\n",
      " 124  GloVe_124     float64\n",
      " 125  GloVe_125     float64\n",
      " 126  GloVe_126     float64\n",
      " 127  GloVe_127     float64\n",
      " 128  GloVe_128     float64\n",
      " 129  GloVe_129     float64\n",
      " 130  GloVe_130     float64\n",
      " 131  GloVe_131     float64\n",
      " 132  GloVe_132     float64\n",
      " 133  GloVe_133     float64\n",
      " 134  GloVe_134     float64\n",
      " 135  GloVe_135     float64\n",
      " 136  GloVe_136     float64\n",
      " 137  GloVe_137     float64\n",
      " 138  GloVe_138     float64\n",
      " 139  GloVe_139     float64\n",
      " 140  GloVe_140     float64\n",
      " 141  GloVe_141     float64\n",
      " 142  GloVe_142     float64\n",
      " 143  GloVe_143     float64\n",
      " 144  GloVe_144     float64\n",
      " 145  GloVe_145     float64\n",
      " 146  GloVe_146     float64\n",
      " 147  GloVe_147     float64\n",
      " 148  GloVe_148     float64\n",
      " 149  GloVe_149     float64\n",
      " 150  GloVe_150     float64\n",
      " 151  GloVe_151     float64\n",
      " 152  GloVe_152     float64\n",
      " 153  GloVe_153     float64\n",
      " 154  GloVe_154     float64\n",
      " 155  GloVe_155     float64\n",
      " 156  GloVe_156     float64\n",
      " 157  GloVe_157     float64\n",
      " 158  GloVe_158     float64\n",
      " 159  GloVe_159     float64\n",
      " 160  GloVe_160     float64\n",
      " 161  GloVe_161     float64\n",
      " 162  GloVe_162     float64\n",
      " 163  GloVe_163     float64\n",
      " 164  GloVe_164     float64\n",
      " 165  GloVe_165     float64\n",
      " 166  GloVe_166     float64\n",
      " 167  GloVe_167     float64\n",
      " 168  GloVe_168     float64\n",
      " 169  GloVe_169     float64\n",
      " 170  GloVe_170     float64\n",
      " 171  GloVe_171     float64\n",
      " 172  GloVe_172     float64\n",
      " 173  GloVe_173     float64\n",
      " 174  GloVe_174     float64\n",
      " 175  GloVe_175     float64\n",
      " 176  GloVe_176     float64\n",
      " 177  GloVe_177     float64\n",
      " 178  GloVe_178     float64\n",
      " 179  GloVe_179     float64\n",
      " 180  GloVe_180     float64\n",
      " 181  GloVe_181     float64\n",
      " 182  GloVe_182     float64\n",
      " 183  GloVe_183     float64\n",
      " 184  GloVe_184     float64\n",
      " 185  GloVe_185     float64\n",
      " 186  GloVe_186     float64\n",
      " 187  GloVe_187     float64\n",
      " 188  GloVe_188     float64\n",
      " 189  GloVe_189     float64\n",
      " 190  GloVe_190     float64\n",
      " 191  GloVe_191     float64\n",
      " 192  GloVe_192     float64\n",
      " 193  GloVe_193     float64\n",
      " 194  GloVe_194     float64\n",
      " 195  GloVe_195     float64\n",
      " 196  GloVe_196     float64\n",
      " 197  GloVe_197     float64\n",
      " 198  GloVe_198     float64\n",
      " 199  GloVe_199     float64\n",
      " 200  GloVe_200     float64\n",
      " 201  GloVe_201     float64\n",
      " 202  GloVe_202     float64\n",
      " 203  GloVe_203     float64\n",
      " 204  GloVe_204     float64\n",
      " 205  GloVe_205     float64\n",
      " 206  GloVe_206     float64\n",
      " 207  GloVe_207     float64\n",
      " 208  GloVe_208     float64\n",
      " 209  GloVe_209     float64\n",
      " 210  GloVe_210     float64\n",
      " 211  GloVe_211     float64\n",
      " 212  GloVe_212     float64\n",
      " 213  GloVe_213     float64\n",
      " 214  GloVe_214     float64\n",
      " 215  GloVe_215     float64\n",
      " 216  GloVe_216     float64\n",
      " 217  GloVe_217     float64\n",
      " 218  GloVe_218     float64\n",
      " 219  GloVe_219     float64\n",
      " 220  GloVe_220     float64\n",
      " 221  GloVe_221     float64\n",
      " 222  GloVe_222     float64\n",
      " 223  GloVe_223     float64\n",
      " 224  GloVe_224     float64\n",
      " 225  GloVe_225     float64\n",
      " 226  GloVe_226     float64\n",
      " 227  GloVe_227     float64\n",
      " 228  GloVe_228     float64\n",
      " 229  GloVe_229     float64\n",
      " 230  GloVe_230     float64\n",
      " 231  GloVe_231     float64\n",
      " 232  GloVe_232     float64\n",
      " 233  GloVe_233     float64\n",
      " 234  GloVe_234     float64\n",
      " 235  GloVe_235     float64\n",
      " 236  GloVe_236     float64\n",
      " 237  GloVe_237     float64\n",
      " 238  GloVe_238     float64\n",
      " 239  GloVe_239     float64\n",
      " 240  GloVe_240     float64\n",
      " 241  GloVe_241     float64\n",
      " 242  GloVe_242     float64\n",
      " 243  GloVe_243     float64\n",
      " 244  GloVe_244     float64\n",
      " 245  GloVe_245     float64\n",
      " 246  GloVe_246     float64\n",
      " 247  GloVe_247     float64\n",
      " 248  GloVe_248     float64\n",
      " 249  GloVe_249     float64\n",
      " 250  GloVe_250     float64\n",
      " 251  GloVe_251     float64\n",
      " 252  GloVe_252     float64\n",
      " 253  GloVe_253     float64\n",
      " 254  GloVe_254     float64\n",
      " 255  GloVe_255     float64\n",
      " 256  GloVe_256     float64\n",
      " 257  GloVe_257     float64\n",
      " 258  GloVe_258     float64\n",
      " 259  GloVe_259     float64\n",
      " 260  GloVe_260     float64\n",
      " 261  GloVe_261     float64\n",
      " 262  GloVe_262     float64\n",
      " 263  GloVe_263     float64\n",
      " 264  GloVe_264     float64\n",
      " 265  GloVe_265     float64\n",
      " 266  GloVe_266     float64\n",
      " 267  GloVe_267     float64\n",
      " 268  GloVe_268     float64\n",
      " 269  GloVe_269     float64\n",
      " 270  GloVe_270     float64\n",
      " 271  GloVe_271     float64\n",
      " 272  GloVe_272     float64\n",
      " 273  GloVe_273     float64\n",
      " 274  GloVe_274     float64\n",
      " 275  GloVe_275     float64\n",
      " 276  GloVe_276     float64\n",
      " 277  GloVe_277     float64\n",
      " 278  GloVe_278     float64\n",
      " 279  GloVe_279     float64\n",
      " 280  GloVe_280     float64\n",
      " 281  GloVe_281     float64\n",
      " 282  GloVe_282     float64\n",
      " 283  GloVe_283     float64\n",
      " 284  GloVe_284     float64\n",
      " 285  GloVe_285     float64\n",
      " 286  GloVe_286     float64\n",
      " 287  GloVe_287     float64\n",
      " 288  GloVe_288     float64\n",
      " 289  GloVe_289     float64\n",
      " 290  GloVe_290     float64\n",
      " 291  GloVe_291     float64\n",
      " 292  GloVe_292     float64\n",
      " 293  GloVe_293     float64\n",
      " 294  GloVe_294     float64\n",
      " 295  GloVe_295     float64\n",
      " 296  GloVe_296     float64\n",
      " 297  GloVe_297     float64\n",
      " 298  GloVe_298     float64\n",
      " 299  GloVe_299     float64\n",
      " 300  Ticker        object \n",
      " 301  Date          object \n",
      " 302  Sentence_num  int64  \n",
      "dtypes: float64(300), int64(1), object(2)\n",
      "memory usage: 911.5+ MB\n"
     ]
    }
   ],
   "source": [
    "MAEC_glove_features.info(verbose=True)\n",
    "### save ############################################\n",
    "MAEC_glove_features.to_csv('data/data_prep/MAEC_glove_features.csv', index=False)\n",
    "#####################################################"
   ]
  },
  {
   "cell_type": "markdown",
   "id": "08568d00-21a5-40de-87ea-b8ac45fd1c11",
   "metadata": {},
   "source": [
    "# Praat features from MP3 audio files\n",
    "\n",
    "Using parselmouth, \"Voice report\" produces this following string."
   ]
  },
  {
   "cell_type": "code",
   "execution_count": 18,
   "id": "7d1fb488-d70d-47e5-afdc-3d9e9a55fd15",
   "metadata": {},
   "outputs": [
    {
     "name": "stdout",
     "output_type": "stream",
     "text": [
      "   From 0 to 0 seconds (duration: 0.370979 seconds)\n",
      "Pitch:\n",
      "   Median pitch: 120.438 Hz\n",
      "   Mean pitch: 122.509 Hz\n",
      "   Standard deviation: 4.582 Hz\n",
      "   Minimum pitch: 119.282 Hz\n",
      "   Maximum pitch: 132.486 Hz\n",
      "Pulses:\n",
      "   Number of pulses: 15\n",
      "   Number of periods: 14\n",
      "   Mean period: 8.145224E-3 seconds\n",
      "   Standard deviation of period: 0.324092E-3 seconds\n",
      "Voicing:\n",
      "   Fraction of locally unvoiced frames: 61.765%   (21 / 34)\n",
      "   Number of voice breaks: 0\n",
      "   Degree of voice breaks: 0   (0 seconds / 0 seconds)\n",
      "Jitter:\n",
      "   Jitter (local): 1.718%\n",
      "   Jitter (local, absolute): 139.948E-6 seconds\n",
      "   Jitter (rap): 1.067%\n",
      "   Jitter (ppq5): 0.811%\n",
      "   Jitter (ddp): 3.201%\n",
      "Shimmer:\n",
      "   Shimmer (local): 17.053%\n",
      "   Shimmer (local, dB): 1.576 dB\n",
      "   Shimmer (apq3): 6.078%\n",
      "   Shimmer (apq5): 11.513%\n",
      "   Shimmer (apq11): 30.665%\n",
      "   Shimmer (dda): 18.235%\n",
      "Harmonicity of the voiced parts only:\n",
      "   Mean autocorrelation: 0.675386\n",
      "   Mean noise-to-harmonics ratio: 0.524708\n",
      "   Mean harmonics-to-noise ratio: 3.356 dB\n",
      "\n"
     ]
    }
   ],
   "source": [
    "sound = parselmouth.Sound(r\"D:\\MAEC_audio\\20150225_LMAT\\LMAT_20150225_f000002100.mp3\")\n",
    "pitch = sound.to_pitch()\n",
    "pulses = parselmouth.praat.call([sound, pitch], \"To PointProcess (cc)\")\n",
    "voice_report_str = parselmouth.praat.call([sound, pitch, pulses], \"Voice report\", 0.0, 0.0, 75, 600, 1.3, 1.6, 0.03, 0.45)\n",
    "print(voice_report_str) "
   ]
  },
  {
   "cell_type": "code",
   "execution_count": 19,
   "id": "c39b5f3d-322c-47d3-9a57-b8c1ac4ef42c",
   "metadata": {},
   "outputs": [],
   "source": [
    "# Returns dictionary of 29 features\n",
    "def get_praat(audio_dir,audio_file):\n",
    "    sound = parselmouth.Sound(os.path.join(audio_dir,audio_file))\n",
    "    pitch = sound.to_pitch()\n",
    "    pulses = parselmouth.praat.call([sound, pitch], \"To PointProcess (cc)\")\n",
    "    voice_report_str = parselmouth.praat.call([sound, pitch, pulses], \"Voice report\", 0.0, 0.0, 75, 600, 1.3, 1.6, 0.03, 0.45)\n",
    "    \n",
    "    # not in voice report\n",
    "    audio_length = sound.get_total_duration()\n",
    "    try:\n",
    "        intensity = sound.to_intensity()\n",
    "        mean_intensity = intensity.values.mean()\n",
    "        min_intensity = intensity.values.min()\n",
    "        max_intensity = intensity.values.max()\n",
    "    except: \n",
    "        mean_intensity = '--undefined--'\n",
    "        min_intensity = '--undefined--'\n",
    "        max_intensity = '--undefined--'\n",
    "        audio_length = '--undefined--'\n",
    "\n",
    "    mean_pitch = re.search(r'Mean pitch: ([\\d.]+|--undefined--)', voice_report_str).group(1)\n",
    "    stdev_pitch = re.search(r'Standard deviation: ([\\d.]+|--undefined--)', voice_report_str).group(1)\n",
    "    min_pitch = re.search(r'Minimum pitch: ([\\d.]+|--undefined--)', voice_report_str).group(1)\n",
    "    max_pitch = re.search(r'Maximum pitch: ([\\d.]+|--undefined--)', voice_report_str).group(1)\n",
    "    num_pulses = re.search(r'Number of pulses: (\\d+|--undefined--)', voice_report_str).group(1)\n",
    "    num_periods = re.search(r'Number of periods: (\\d+|--undefined--)', voice_report_str).group(1)\n",
    "    mean_period = re.search(r'Mean period: ([\\d.E+-]+|--undefined--)', voice_report_str).group(1)\n",
    "    stdev_period = re.search(r'Standard deviation of period: ([\\d.E+-]+|--undefined--)', voice_report_str).group(1)\n",
    "    fraction_unvoiced = re.search(r'Fraction of locally unvoiced frames: ([\\d.]+|--undefined--)%?', voice_report_str).group(1)\n",
    "    num_voice_breaks = re.search(r'Number of voice breaks: (\\d+|--undefined--)', voice_report_str).group(1)\n",
    "    degree_of_voice_breaks = re.search(r'Degree of voice breaks: ([\\d.]+|--undefined--)', voice_report_str).group(1)\n",
    "    jitter_local = re.search(r'Jitter \\(local\\): ([\\d.]+|--undefined--)%?', voice_report_str).group(1)\n",
    "    jitter_local_abs = re.search(r'Jitter \\(local, absolute\\): ([\\d.E+-]+|--undefined--)', voice_report_str).group(1)\n",
    "    jitter_rap = re.search(r'Jitter \\(rap\\): ([\\d.]+|--undefined--)%?', voice_report_str).group(1)\n",
    "    jitter_ppq5 = re.search(r'Jitter \\(ppq5\\): ([\\d.]+|--undefined--)%?', voice_report_str).group(1)\n",
    "    jitter_ddp = re.search(r'Jitter \\(ddp\\): ([\\d.]+|--undefined--)%?', voice_report_str).group(1)\n",
    "    shimmer_local = re.search(r'Shimmer \\(local\\): ([\\d.]+|--undefined--)%?', voice_report_str).group(1)\n",
    "    shimmer_local_dB = re.search(r'Shimmer \\(local, dB\\): ([\\d.]+|--undefined--) dB', voice_report_str).group(1)\n",
    "    shimmer_apq3 = re.search(r'Shimmer \\(apq3\\): ([\\d.]+|--undefined--)%?', voice_report_str).group(1)\n",
    "    shimmer_apq5 = re.search(r'Shimmer \\(apq5\\): ([\\d.]+|--undefined--)%?', voice_report_str).group(1)\n",
    "    shimmer_apq11 = re.search(r'Shimmer \\(apq11\\): ([\\d.]+|--undefined--)', voice_report_str).group(1)\n",
    "    shimmer_dda = re.search(r'Shimmer \\(dda\\): ([\\d.]+|--undefined--)%?', voice_report_str).group(1)\n",
    "    autocorrelation = re.search(r'Mean autocorrelation: ([\\d.]+|--undefined--)', voice_report_str).group(1)\n",
    "    nhr = re.search(r'Mean noise-to-harmonics ratio: ([\\d.]+|--undefined--)', voice_report_str).group(1)\n",
    "    try:\n",
    "        hnr = re.search(r'Mean harmonics-to-noise ratio: ([\\d.]+|--undefined--) dB', voice_report_str).group(1)\n",
    "    except: \n",
    "        hnr = '--undefined--'\n",
    "\n",
    "    features = {\n",
    "        'Mean pitch': mean_pitch,\n",
    "        'Standard deviation': stdev_pitch,\n",
    "        'Minimum pitch': min_pitch,\n",
    "        'Maximum pitch': max_pitch,\n",
    "        'Number of pulses': num_pulses,\n",
    "        'Number of periods': num_periods,\n",
    "        'Mean period': mean_period,\n",
    "        'Mean intensity': mean_intensity,\n",
    "        'Minimum intensity': min_intensity,\n",
    "        'Maximum intensity': max_intensity,\n",
    "        'Standard deviation of period': stdev_period,\n",
    "        'Fraction of unvoiced': fraction_unvoiced,  \n",
    "        'Number of voice breaks': num_voice_breaks, \n",
    "        'Degree of voice breaks': degree_of_voice_breaks,  \n",
    "        'Jitter local': jitter_local,\n",
    "        'Jitter local absolute': jitter_local_abs,\n",
    "        'Jitter rap': jitter_rap,\n",
    "        'Jitter ppq5': jitter_ppq5,\n",
    "        'Jitter ddp': jitter_ddp,\n",
    "        'Shimmer local': shimmer_local,\n",
    "        'Shimmer local dB': shimmer_local_dB,\n",
    "        'Shimmer apq3': shimmer_apq3,\n",
    "        'Shimmer apq5': shimmer_apq5,\n",
    "        'Shimmer apq11': shimmer_apq11,\n",
    "        'Shimmer dda': shimmer_dda,\n",
    "        'Mean autocorrelation': autocorrelation,\n",
    "        'Mean NHR': nhr,\n",
    "        'Mean HNR': hnr,\n",
    "        'Audio Length': audio_length\n",
    "    }\n",
    "    return features"
   ]
  },
  {
   "cell_type": "code",
   "execution_count": 20,
   "id": "c6e61439-1602-4770-820e-e07eb82bc09d",
   "metadata": {},
   "outputs": [
    {
     "name": "stderr",
     "output_type": "stream",
     "text": [
      "100%|██████████| 572/572 [1:26:55<00:00,  9.12s/it]\n"
     ]
    },
    {
     "name": "stdout",
     "output_type": "stream",
     "text": [
      "<class 'pandas.core.frame.DataFrame'>\n",
      "RangeIndex: 89722 entries, 0 to 89721\n",
      "Data columns (total 33 columns):\n",
      " #   Column                        Non-Null Count  Dtype \n",
      "---  ------                        --------------  ----- \n",
      " 0   Mean pitch                    89722 non-null  object\n",
      " 1   Standard deviation            89722 non-null  object\n",
      " 2   Minimum pitch                 89722 non-null  object\n",
      " 3   Maximum pitch                 89722 non-null  object\n",
      " 4   Number of pulses              89722 non-null  object\n",
      " 5   Number of periods             89722 non-null  object\n",
      " 6   Mean period                   89722 non-null  object\n",
      " 7   Mean intensity                89722 non-null  object\n",
      " 8   Minimum intensity             89722 non-null  object\n",
      " 9   Maximum intensity             89722 non-null  object\n",
      " 10  Standard deviation of period  89722 non-null  object\n",
      " 11  Fraction of unvoiced          89722 non-null  object\n",
      " 12  Number of voice breaks        89722 non-null  object\n",
      " 13  Degree of voice breaks        89722 non-null  object\n",
      " 14  Jitter local                  89722 non-null  object\n",
      " 15  Jitter local absolute         89722 non-null  object\n",
      " 16  Jitter rap                    89722 non-null  object\n",
      " 17  Jitter ppq5                   89722 non-null  object\n",
      " 18  Jitter ddp                    89722 non-null  object\n",
      " 19  Shimmer local                 89722 non-null  object\n",
      " 20  Shimmer local dB              89722 non-null  object\n",
      " 21  Shimmer apq3                  89722 non-null  object\n",
      " 22  Shimmer apq5                  89722 non-null  object\n",
      " 23  Shimmer apq11                 89722 non-null  object\n",
      " 24  Shimmer dda                   89722 non-null  object\n",
      " 25  Mean autocorrelation          89722 non-null  object\n",
      " 26  Mean NHR                      89722 non-null  object\n",
      " 27  Mean HNR                      89722 non-null  object\n",
      " 28  Audio Length                  89722 non-null  object\n",
      " 29  Company                       89722 non-null  object\n",
      " 30  Date                          89722 non-null  object\n",
      " 31  Sentence_num                  89722 non-null  int64 \n",
      " 32  audio_file                    89722 non-null  object\n",
      "dtypes: int64(1), object(32)\n",
      "memory usage: 22.6+ MB\n"
     ]
    }
   ],
   "source": [
    "# Collect whenever there is an error\n",
    "bad_praat = [] # Company,Date,i,audio_file,voice_report_str,e\n",
    "# set all features to undefined\n",
    "undefined_features = {'Mean pitch': '--undefined--', 'Standard deviation':'--undefined--', 'Minimum pitch': '--undefined--', 'Maximum pitch': '--undefined--', 'Number of pulses': '--undefined--', 'Number of periods': '--undefined--', 'Mean period':  '--undefined--', 'Mean intensity': '--undefined--', 'Minimum intensity':  '--undefined--', 'Maximum intensity':  '--undefined--', 'Standard deviation of period': '--undefined--', 'Fraction of unvoiced':'--undefined--', 'Number of voice breaks':  '--undefined--', 'Degree of voice breaks':  '--undefined--', 'Jitter local': '--undefined--', 'Jitter local absolute': '--undefined--', 'Jitter rap':  '--undefined--', 'Jitter ppq5':  '--undefined--', 'Jitter ddp': '--undefined--', 'Shimmer local':'--undefined--', 'Shimmer local dB': '--undefined--', 'Shimmer apq3': '--undefined--', 'Shimmer apq5': '--undefined--', 'Shimmer apq11': '--undefined--', 'Shimmer dda': '--undefined--', 'Mean autocorrelation':'--undefined--', 'Mean NHR': '--undefined--', 'Mean HNR': '--undefined--', 'Audio Length': '--undefined--'}\n",
    "\n",
    "praat_features = pd.DataFrame()\n",
    "for Company,Date in tqdm(filename_data[['Company','Date']].values):\n",
    "    Date = Date.replace('-', '') \n",
    "    audio_dir = f\"D:/original_dataset/{Company}_{Date}/CEO\"\n",
    "    if os.path.exists(audio_dir):\n",
    "        for i, audio_file in enumerate(os.listdir(audio_dir), start= 1):\n",
    "            try:\n",
    "                # skip files that are not MP3 audio\n",
    "                if audio_file.lower().endswith('.mp3'):\n",
    "                    features = get_praat(audio_dir,audio_file)\n",
    "                    features_df = pd.DataFrame([features])\n",
    "                    features_df['Company'] = Company\n",
    "                    features_df['Date'] = Date\n",
    "                    features_df['Sentence_num'] = i\n",
    "                    features_df['audio_file'] = audio_file\n",
    "                    praat_features = pd.concat([praat_features, features_df], ignore_index=True)\n",
    "            except KeyboardInterrupt: break\n",
    "            except Exception as e: \n",
    "                bad_praat.append([Company,Date,i,audio_file,voice_report_str,e])\n",
    "                # set all features to undefined\n",
    "                features_df = pd.DataFrame([undefined_features])\n",
    "                features_df['Company'] = Company\n",
    "                features_df['Date'] = Date\n",
    "                features_df['Sentence_num'] = i\n",
    "                features_df['audio_file'] = audio_file\n",
    "                praat_features = pd.concat([praat_features, features_df], ignore_index=True)\n",
    "\n",
    "praat_features.info(verbose=True)\n",
    "### save ############################################\n",
    "praat_features.to_csv('data/data_prep/praat_features.csv', index=False)\n",
    "#####################################################"
   ]
  },
  {
   "cell_type": "code",
   "execution_count": 21,
   "id": "e9457aea-a866-468c-a096-21f34912b052",
   "metadata": {},
   "outputs": [
    {
     "name": "stdout",
     "output_type": "stream",
     "text": [
      "1\n"
     ]
    },
    {
     "data": {
      "text/plain": [
       "[['Ventas Inc',\n",
       "  '20171027',\n",
       "  113,\n",
       "  'Robert Probst_1_8.mp3',\n",
       "  '   From 0 to 0 seconds (duration: 0.370979 seconds)\\nPitch:\\n   Median pitch: 120.438 Hz\\n   Mean pitch: 122.509 Hz\\n   Standard deviation: 4.582 Hz\\n   Minimum pitch: 119.282 Hz\\n   Maximum pitch: 132.486 Hz\\nPulses:\\n   Number of pulses: 15\\n   Number of periods: 14\\n   Mean period: 8.145224E-3 seconds\\n   Standard deviation of period: 0.324092E-3 seconds\\nVoicing:\\n   Fraction of locally unvoiced frames: 61.765%   (21 / 34)\\n   Number of voice breaks: 0\\n   Degree of voice breaks: 0   (0 seconds / 0 seconds)\\nJitter:\\n   Jitter (local): 1.718%\\n   Jitter (local, absolute): 139.948E-6 seconds\\n   Jitter (rap): 1.067%\\n   Jitter (ppq5): 0.811%\\n   Jitter (ddp): 3.201%\\nShimmer:\\n   Shimmer (local): 17.053%\\n   Shimmer (local, dB): 1.576 dB\\n   Shimmer (apq3): 6.078%\\n   Shimmer (apq5): 11.513%\\n   Shimmer (apq11): 30.665%\\n   Shimmer (dda): 18.235%\\nHarmonicity of the voiced parts only:\\n   Mean autocorrelation: 0.675386\\n   Mean noise-to-harmonics ratio: 0.524708\\n   Mean harmonics-to-noise ratio: 3.356 dB\\n',\n",
       "  parselmouth.PraatError('Not an audio file.\\r\\nSound not read from sound file “D:\\\\original_dataset\\\\Ventas Inc_20171027\\\\CEO\\\\Robert Probst_1_8.mp3”.\\r')]]"
      ]
     },
     "execution_count": 21,
     "metadata": {},
     "output_type": "execute_result"
    }
   ],
   "source": [
    "print(len(bad_praat))\n",
    "bad_praat"
   ]
  },
  {
   "cell_type": "code",
   "execution_count": 22,
   "id": "aaf5f1a9-8fd0-410a-b758-b97e4a69dec0",
   "metadata": {},
   "outputs": [
    {
     "name": "stderr",
     "output_type": "stream",
     "text": [
      "100%|██████████| 3443/3443 [14:29:30<00:00, 15.15s/it]  \n"
     ]
    },
    {
     "name": "stdout",
     "output_type": "stream",
     "text": [
      "<class 'pandas.core.frame.DataFrame'>\n",
      "RangeIndex: 394277 entries, 0 to 394276\n",
      "Data columns (total 33 columns):\n",
      " #   Column                        Non-Null Count   Dtype \n",
      "---  ------                        --------------   ----- \n",
      " 0   Mean pitch                    394277 non-null  object\n",
      " 1   Standard deviation            394277 non-null  object\n",
      " 2   Minimum pitch                 394277 non-null  object\n",
      " 3   Maximum pitch                 394277 non-null  object\n",
      " 4   Number of pulses              394277 non-null  object\n",
      " 5   Number of periods             394277 non-null  object\n",
      " 6   Mean period                   394277 non-null  object\n",
      " 7   Mean intensity                394277 non-null  object\n",
      " 8   Minimum intensity             394277 non-null  object\n",
      " 9   Maximum intensity             394277 non-null  object\n",
      " 10  Standard deviation of period  394277 non-null  object\n",
      " 11  Fraction of unvoiced          394277 non-null  object\n",
      " 12  Number of voice breaks        394277 non-null  object\n",
      " 13  Degree of voice breaks        394277 non-null  object\n",
      " 14  Jitter local                  394277 non-null  object\n",
      " 15  Jitter local absolute         394277 non-null  object\n",
      " 16  Jitter rap                    394277 non-null  object\n",
      " 17  Jitter ppq5                   394277 non-null  object\n",
      " 18  Jitter ddp                    394277 non-null  object\n",
      " 19  Shimmer local                 394277 non-null  object\n",
      " 20  Shimmer local dB              394277 non-null  object\n",
      " 21  Shimmer apq3                  394277 non-null  object\n",
      " 22  Shimmer apq5                  394277 non-null  object\n",
      " 23  Shimmer apq11                 394277 non-null  object\n",
      " 24  Shimmer dda                   394277 non-null  object\n",
      " 25  Mean autocorrelation          394277 non-null  object\n",
      " 26  Mean NHR                      394277 non-null  object\n",
      " 27  Mean HNR                      394277 non-null  object\n",
      " 28  Audio Length                  394277 non-null  object\n",
      " 29  Ticker                        394277 non-null  object\n",
      " 30  Date                          394277 non-null  object\n",
      " 31  Sentence_num                  394277 non-null  int64 \n",
      " 32  audio_file                    394277 non-null  object\n",
      "dtypes: int64(1), object(32)\n",
      "memory usage: 99.3+ MB\n"
     ]
    }
   ],
   "source": [
    "bad_MAEC_praat = []\n",
    "MAEC_praat_features = pd.DataFrame()\n",
    "for Ticker,Date in tqdm(MAEC_filename_data[['Ticker','Date']].values):\n",
    "    Date = Date.replace('-', '') \n",
    "    audio_dir = f\"D:/MAEC_audio/{Date}_{Ticker}\"\n",
    "    if os.path.exists(audio_dir):\n",
    "        for i, audio_file in enumerate(os.listdir(audio_dir), start= 1):\n",
    "            try:\n",
    "                # skip files that are not MP3 audio\n",
    "                if audio_file.lower().endswith('.mp3'):\n",
    "                    features = get_praat(audio_dir,audio_file)\n",
    "                    features_df = pd.DataFrame([features])\n",
    "                    features_df['Ticker'] = Ticker\n",
    "                    features_df['Date'] = Date\n",
    "                    features_df['Sentence_num'] = i\n",
    "                    features_df['audio_file'] = audio_file\n",
    "                    MAEC_praat_features = pd.concat([MAEC_praat_features, features_df], ignore_index=True)\n",
    "            except KeyboardInterrupt: break\n",
    "            except Exception as e: \n",
    "                bad_praat.append([Ticker,Date,i,audio_file,voice_report_str,e])\n",
    "                # set all features to undefined\n",
    "                features_df = pd.DataFrame([undefined_features])\n",
    "                features_df['Ticker'] = Ticker\n",
    "                features_df['Date'] = Date\n",
    "                features_df['Sentence_num'] = i\n",
    "                features_df['audio_file'] = audio_file\n",
    "                MAEC_praat_features = pd.concat([MAEC_praat_features, features_df], ignore_index=True)\n",
    "\n",
    "\n",
    "MAEC_praat_features.info(verbose=True)\n",
    "### save ############################################\n",
    "MAEC_praat_features.to_csv('data/data_prep/MAEC_praat_features.csv', index=False)\n",
    "#####################################################"
   ]
  },
  {
   "cell_type": "code",
   "execution_count": 23,
   "id": "88620350-c5c1-44db-8aea-15a4abb31fac",
   "metadata": {},
   "outputs": [
    {
     "name": "stdout",
     "output_type": "stream",
     "text": [
      "0\n"
     ]
    },
    {
     "data": {
      "text/plain": [
       "[]"
      ]
     },
     "execution_count": 23,
     "metadata": {},
     "output_type": "execute_result"
    }
   ],
   "source": [
    "print(len(bad_MAEC_praat))\n",
    "bad_MAEC_praat"
   ]
  },
  {
   "cell_type": "code",
   "execution_count": 24,
   "id": "a15a64c9-c3f0-4886-98a1-8c90aa52962b",
   "metadata": {},
   "outputs": [
    {
     "name": "stdout",
     "output_type": "stream",
     "text": [
      "[]\n"
     ]
    }
   ],
   "source": [
    "print(bad_MAEC_praat)"
   ]
  },
  {
   "cell_type": "code",
   "execution_count": null,
   "id": "e458b5a6-0bad-436f-9056-be1c77fb9d81",
   "metadata": {},
   "outputs": [],
   "source": []
  }
 ],
 "metadata": {
  "kernelspec": {
   "display_name": "Python 3 (ipykernel)",
   "language": "python",
   "name": "python3"
  },
  "language_info": {
   "codemirror_mode": {
    "name": "ipython",
    "version": 3
   },
   "file_extension": ".py",
   "mimetype": "text/x-python",
   "name": "python",
   "nbconvert_exporter": "python",
   "pygments_lexer": "ipython3",
   "version": "3.10.13"
  }
 },
 "nbformat": 4,
 "nbformat_minor": 5
}
